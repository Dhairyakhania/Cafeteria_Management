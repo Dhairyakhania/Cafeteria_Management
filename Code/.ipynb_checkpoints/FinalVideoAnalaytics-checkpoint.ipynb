{
 "cells": [
  {
   "cell_type": "code",
   "execution_count": 1,
   "metadata": {
    "colab": {
     "base_uri": "https://localhost:8080/"
    },
    "id": "s7mlzMsqSdKE",
    "outputId": "2f7328b7-9434-4b0b-d1c4-112bdbd1c7ce"
   },
   "outputs": [
    {
     "name": "stdout",
     "output_type": "stream",
     "text": [
      "loading Roboflow workspace...\n",
      "loading Roboflow project...\n"
     ]
    },
    {
     "name": "stderr",
     "output_type": "stream",
     "text": [
      "Downloading Dataset Version Zip in Bench-Detection-2 to yolov8:: 100%|██████████| 30306/30306 [00:13<00:00, 2208.14it/s]\n"
     ]
    },
    {
     "name": "stdout",
     "output_type": "stream",
     "text": [
      "\n"
     ]
    },
    {
     "name": "stderr",
     "output_type": "stream",
     "text": [
      "Extracting Dataset Version Zip to Bench-Detection-2 in yolov8:: 100%|██████████| 688/688 [00:00<00:00, 880.82it/s]\n"
     ]
    }
   ],
   "source": [
    "#!pip install roboflow\n",
    "\n",
    "from roboflow import Roboflow\n",
    "rf = Roboflow(api_key=\"HCBOHmubfdcIfNjR3UJd\")\n",
    "project = rf.workspace(\"dhairya-khania\").project(\"bench-detection-cujan\")\n",
    "version = project.version(2)\n",
    "dataset = version.download(\"yolov8\")"
   ]
  },
  {
   "cell_type": "code",
   "execution_count": 2,
   "metadata": {},
   "outputs": [],
   "source": [
    "# !pip install ultralytics"
   ]
  },
  {
   "cell_type": "code",
   "execution_count": 3,
   "metadata": {
    "colab": {
     "base_uri": "https://localhost:8080/"
    },
    "id": "V8ywV-nhTo60",
    "outputId": "ee7d11b4-b5b7-4f80-f997-87856e38b4e6"
   },
   "outputs": [],
   "source": [
    "from ultralytics import YOLO\n",
    "\n",
    "# Initialize YOLOv8 model (you can specify other YOLOv8 versions like YOLOv8n, YOLOv8m, etc.)\n",
    "model = YOLO(\"yolov8n.pt\")  # Start with a pre-trained model, for example, YOLOv8 Nano\n",
    "\n"
   ]
  },
  {
   "cell_type": "code",
   "execution_count": 4,
   "metadata": {},
   "outputs": [],
   "source": [
    "import torch\n",
    "device = torch.device('cuda' if torch.cuda.is_available() else 'cpu')"
   ]
  },
  {
   "cell_type": "code",
   "execution_count": 5,
   "metadata": {},
   "outputs": [],
   "source": [
    "torch.cuda.empty_cache() "
   ]
  },
  {
   "cell_type": "code",
   "execution_count": 6,
   "metadata": {},
   "outputs": [],
   "source": [
    "import os\n",
    "os.environ[\"KMP_DUPLICATE_LIB_OK\"] = \"TRUE\"\n",
    "# os.environ[\"CUDA_VISIBLE_DEVICES\"] = \"\""
   ]
  },
  {
   "cell_type": "code",
   "execution_count": 7,
   "metadata": {},
   "outputs": [],
   "source": [
    "# print(torch.cuda.is_available())  # Should return True if GPU is detected\n",
    "# print(torch.cuda.device_count())  # Should be > 0 if GPU is detected\n",
    "# print(torch.cuda.current_device())  # Check current device index\n",
    "# print(torch.cuda.get_device_name(0))"
   ]
  },
  {
   "cell_type": "code",
   "execution_count": 9,
   "metadata": {
    "colab": {
     "base_uri": "https://localhost:8080/"
    },
    "id": "ODADdLIYUFf1",
    "outputId": "c9d8392f-49fa-4f8f-df7e-4f7aaecb042e"
   },
   "outputs": [
    {
     "name": "stdout",
     "output_type": "stream",
     "text": [
      "New https://pypi.org/project/ultralytics/8.3.38 available  Update with 'pip install -U ultralytics'\n",
      "\u001b[34m\u001b[1mengine\\trainer: \u001b[0mtask=detect, mode=train, model=yolov8n.pt, data=C:\\Users\\DHAIRYA\\VA-Project_AIML\\Cafeteria_Management\\Code\\Bench-Detection-2\\data.yaml, epochs=100, time=None, patience=100, batch=4, imgsz=512, save=True, save_period=-1, cache=False, device=cuda, workers=1, project=None, name=train20, exist_ok=False, pretrained=True, optimizer=auto, verbose=True, seed=0, deterministic=True, single_cls=False, rect=False, cos_lr=False, close_mosaic=10, resume=False, amp=True, fraction=1.0, profile=False, freeze=None, multi_scale=False, overlap_mask=True, mask_ratio=4, dropout=0.0, val=True, split=val, save_json=False, save_hybrid=False, conf=None, iou=0.7, max_det=300, half=False, dnn=False, plots=True, source=None, vid_stride=1, stream_buffer=False, visualize=False, augment=False, agnostic_nms=False, classes=None, retina_masks=False, embed=None, show=False, save_frames=False, save_txt=False, save_conf=False, save_crop=False, show_labels=True, show_conf=True, show_boxes=True, line_width=None, format=torchscript, keras=False, optimize=False, int8=False, dynamic=False, simplify=True, opset=None, workspace=4, nms=False, lr0=0.01, lrf=0.01, momentum=0.937, weight_decay=0.0005, warmup_epochs=3.0, warmup_momentum=0.8, warmup_bias_lr=0.1, box=7.5, cls=0.5, dfl=1.5, pose=12.0, kobj=1.0, label_smoothing=0.0, nbs=64, hsv_h=0.015, hsv_s=0.7, hsv_v=0.4, degrees=0.0, translate=0.1, scale=0.5, shear=0.0, perspective=0.0, flipud=0.0, fliplr=0.5, bgr=0.0, mosaic=1.0, mixup=0.0, copy_paste=0.0, copy_paste_mode=flip, auto_augment=randaugment, erasing=0.4, crop_fraction=1.0, cfg=None, tracker=botsort.yaml, save_dir=runs\\detect\\train20\n",
      "Overriding model.yaml nc=4 with nc=2\n",
      "\n",
      "                   from  n    params  module                                       arguments                     \n",
      "  0                  -1  1       464  ultralytics.nn.modules.conv.Conv             [3, 16, 3, 2]                 \n",
      "  1                  -1  1      4672  ultralytics.nn.modules.conv.Conv             [16, 32, 3, 2]                \n",
      "  2                  -1  1      7360  ultralytics.nn.modules.block.C2f             [32, 32, 1, True]             \n",
      "  3                  -1  1     18560  ultralytics.nn.modules.conv.Conv             [32, 64, 3, 2]                \n",
      "  4                  -1  2     49664  ultralytics.nn.modules.block.C2f             [64, 64, 2, True]             \n",
      "  5                  -1  1     73984  ultralytics.nn.modules.conv.Conv             [64, 128, 3, 2]               \n",
      "  6                  -1  2    197632  ultralytics.nn.modules.block.C2f             [128, 128, 2, True]           \n",
      "  7                  -1  1    295424  ultralytics.nn.modules.conv.Conv             [128, 256, 3, 2]              \n",
      "  8                  -1  1    460288  ultralytics.nn.modules.block.C2f             [256, 256, 1, True]           \n",
      "  9                  -1  1    164608  ultralytics.nn.modules.block.SPPF            [256, 256, 5]                 \n",
      " 10                  -1  1         0  torch.nn.modules.upsampling.Upsample         [None, 2, 'nearest']          \n",
      " 11             [-1, 6]  1         0  ultralytics.nn.modules.conv.Concat           [1]                           \n",
      " 12                  -1  1    148224  ultralytics.nn.modules.block.C2f             [384, 128, 1]                 \n",
      " 13                  -1  1         0  torch.nn.modules.upsampling.Upsample         [None, 2, 'nearest']          \n",
      " 14             [-1, 4]  1         0  ultralytics.nn.modules.conv.Concat           [1]                           \n",
      " 15                  -1  1     37248  ultralytics.nn.modules.block.C2f             [192, 64, 1]                  \n",
      " 16                  -1  1     36992  ultralytics.nn.modules.conv.Conv             [64, 64, 3, 2]                \n",
      " 17            [-1, 12]  1         0  ultralytics.nn.modules.conv.Concat           [1]                           \n",
      " 18                  -1  1    123648  ultralytics.nn.modules.block.C2f             [192, 128, 1]                 \n",
      " 19                  -1  1    147712  ultralytics.nn.modules.conv.Conv             [128, 128, 3, 2]              \n",
      " 20             [-1, 9]  1         0  ultralytics.nn.modules.conv.Concat           [1]                           \n",
      " 21                  -1  1    493056  ultralytics.nn.modules.block.C2f             [384, 256, 1]                 \n",
      " 22        [15, 18, 21]  1    751702  ultralytics.nn.modules.head.Detect           [2, [64, 128, 256]]           \n",
      "Model summary: 225 layers, 3,011,238 parameters, 3,011,222 gradients, 8.2 GFLOPs\n",
      "\n",
      "Transferred 349/355 items from pretrained weights\n",
      "Freezing layer 'model.22.dfl.conv.weight'\n",
      "\u001b[34m\u001b[1mAMP: \u001b[0mrunning Automatic Mixed Precision (AMP) checks...\n",
      "\u001b[34m\u001b[1mAMP: \u001b[0mchecks passed \n"
     ]
    },
    {
     "name": "stderr",
     "output_type": "stream",
     "text": [
      "\u001b[34m\u001b[1mtrain: \u001b[0mScanning C:\\Users\\DHAIRYA\\VA-Project_AIML\\Cafeteria_Management\\Code\\Bench-Detection-2\\train\\labels... 242 images, 0 backgrounds, 241 corrupt: 100%|██████████| 242/242 [00:00<00:00, 245.42it/s]"
     ]
    },
    {
     "name": "stdout",
     "output_type": "stream",
     "text": [
      "\u001b[34m\u001b[1mtrain: \u001b[0mWARNING  C:\\Users\\DHAIRYA\\VA-Project_AIML\\Cafeteria_Management\\Code\\Bench-Detection-2\\train\\images\\Image0_jpg.rf.85bb825f4a80021fb88d52bf3dd8c157.jpg: ignoring corrupt image/label: Label class 3 exceeds dataset class count 2. Possible class labels are 0-1\n",
      "\u001b[34m\u001b[1mtrain: \u001b[0mWARNING  C:\\Users\\DHAIRYA\\VA-Project_AIML\\Cafeteria_Management\\Code\\Bench-Detection-2\\train\\images\\Image103_jpg.rf.fe41ef212416ec9a2a85e58ed8d9b8db.jpg: ignoring corrupt image/label: Label class 3 exceeds dataset class count 2. Possible class labels are 0-1\n",
      "\u001b[34m\u001b[1mtrain: \u001b[0mWARNING  C:\\Users\\DHAIRYA\\VA-Project_AIML\\Cafeteria_Management\\Code\\Bench-Detection-2\\train\\images\\Image106_jpg.rf.0bbfe3ee7bd8131f4b9378bb7b4d4260.jpg: ignoring corrupt image/label: Label class 3 exceeds dataset class count 2. Possible class labels are 0-1\n",
      "\u001b[34m\u001b[1mtrain: \u001b[0mWARNING  C:\\Users\\DHAIRYA\\VA-Project_AIML\\Cafeteria_Management\\Code\\Bench-Detection-2\\train\\images\\Image107_jpg.rf.7b2708a1e79d11cf5ebad15f504ffea0.jpg: ignoring corrupt image/label: Label class 3 exceeds dataset class count 2. Possible class labels are 0-1\n",
      "\u001b[34m\u001b[1mtrain: \u001b[0mWARNING  C:\\Users\\DHAIRYA\\VA-Project_AIML\\Cafeteria_Management\\Code\\Bench-Detection-2\\train\\images\\Image109_jpg.rf.6809ef3ac1d1707befc141039dafa536.jpg: ignoring corrupt image/label: Label class 3 exceeds dataset class count 2. Possible class labels are 0-1\n",
      "\u001b[34m\u001b[1mtrain: \u001b[0mWARNING  C:\\Users\\DHAIRYA\\VA-Project_AIML\\Cafeteria_Management\\Code\\Bench-Detection-2\\train\\images\\Image10_jpg.rf.7f0773c8c4b460cdf2d817b9e0f63413.jpg: ignoring corrupt image/label: Label class 3 exceeds dataset class count 2. Possible class labels are 0-1\n",
      "\u001b[34m\u001b[1mtrain: \u001b[0mWARNING  C:\\Users\\DHAIRYA\\VA-Project_AIML\\Cafeteria_Management\\Code\\Bench-Detection-2\\train\\images\\Image110_jpg.rf.ab4d55a7d408785588b0706773229f8c.jpg: ignoring corrupt image/label: Label class 3 exceeds dataset class count 2. Possible class labels are 0-1\n",
      "\u001b[34m\u001b[1mtrain: \u001b[0mWARNING  C:\\Users\\DHAIRYA\\VA-Project_AIML\\Cafeteria_Management\\Code\\Bench-Detection-2\\train\\images\\Image111_jpg.rf.48f4c2bc26697552a34d0dd63a1393ef.jpg: ignoring corrupt image/label: Label class 3 exceeds dataset class count 2. Possible class labels are 0-1\n",
      "\u001b[34m\u001b[1mtrain: \u001b[0mWARNING  C:\\Users\\DHAIRYA\\VA-Project_AIML\\Cafeteria_Management\\Code\\Bench-Detection-2\\train\\images\\Image112_jpg.rf.af3c33095b3f2159878e5c6b37c3a85a.jpg: ignoring corrupt image/label: Label class 3 exceeds dataset class count 2. Possible class labels are 0-1\n",
      "\u001b[34m\u001b[1mtrain: \u001b[0mWARNING  C:\\Users\\DHAIRYA\\VA-Project_AIML\\Cafeteria_Management\\Code\\Bench-Detection-2\\train\\images\\Image113_jpg.rf.6b9b076ff01dd0c3e45e81a89e9fea43.jpg: ignoring corrupt image/label: Label class 3 exceeds dataset class count 2. Possible class labels are 0-1\n",
      "\u001b[34m\u001b[1mtrain: \u001b[0mWARNING  C:\\Users\\DHAIRYA\\VA-Project_AIML\\Cafeteria_Management\\Code\\Bench-Detection-2\\train\\images\\Image114_jpg.rf.5aaee0f195fcc10f8cabe388b0ba456b.jpg: ignoring corrupt image/label: Label class 3 exceeds dataset class count 2. Possible class labels are 0-1\n",
      "\u001b[34m\u001b[1mtrain: \u001b[0mWARNING  C:\\Users\\DHAIRYA\\VA-Project_AIML\\Cafeteria_Management\\Code\\Bench-Detection-2\\train\\images\\Image116_jpg.rf.d3593bd5903d439776a21eec39fc3bf6.jpg: ignoring corrupt image/label: Label class 3 exceeds dataset class count 2. Possible class labels are 0-1\n",
      "\u001b[34m\u001b[1mtrain: \u001b[0mWARNING  C:\\Users\\DHAIRYA\\VA-Project_AIML\\Cafeteria_Management\\Code\\Bench-Detection-2\\train\\images\\Image117_jpg.rf.960f68a36003e734e1437914b7741bfd.jpg: ignoring corrupt image/label: Label class 3 exceeds dataset class count 2. Possible class labels are 0-1\n",
      "\u001b[34m\u001b[1mtrain: \u001b[0mWARNING  C:\\Users\\DHAIRYA\\VA-Project_AIML\\Cafeteria_Management\\Code\\Bench-Detection-2\\train\\images\\Image118_jpg.rf.d1bdd4fcc89c621abb50fd979faa1669.jpg: ignoring corrupt image/label: Label class 3 exceeds dataset class count 2. Possible class labels are 0-1\n",
      "\u001b[34m\u001b[1mtrain: \u001b[0mWARNING  C:\\Users\\DHAIRYA\\VA-Project_AIML\\Cafeteria_Management\\Code\\Bench-Detection-2\\train\\images\\Image119_jpg.rf.c8576ea86adbc250404743db74564771.jpg: ignoring corrupt image/label: Label class 3 exceeds dataset class count 2. Possible class labels are 0-1\n",
      "\u001b[34m\u001b[1mtrain: \u001b[0mWARNING  C:\\Users\\DHAIRYA\\VA-Project_AIML\\Cafeteria_Management\\Code\\Bench-Detection-2\\train\\images\\Image120_jpg.rf.c78e64f3aa69ae1d99d9b2ae56ff1616.jpg: ignoring corrupt image/label: Label class 3 exceeds dataset class count 2. Possible class labels are 0-1\n",
      "\u001b[34m\u001b[1mtrain: \u001b[0mWARNING  C:\\Users\\DHAIRYA\\VA-Project_AIML\\Cafeteria_Management\\Code\\Bench-Detection-2\\train\\images\\Image121_jpg.rf.893bc2482532a44faabd45a2eb3cce07.jpg: ignoring corrupt image/label: Label class 3 exceeds dataset class count 2. Possible class labels are 0-1\n",
      "\u001b[34m\u001b[1mtrain: \u001b[0mWARNING  C:\\Users\\DHAIRYA\\VA-Project_AIML\\Cafeteria_Management\\Code\\Bench-Detection-2\\train\\images\\Image122_jpg.rf.0da70a974b17fdb135a03ed334f69d8f.jpg: ignoring corrupt image/label: Label class 3 exceeds dataset class count 2. Possible class labels are 0-1\n",
      "\u001b[34m\u001b[1mtrain: \u001b[0mWARNING  C:\\Users\\DHAIRYA\\VA-Project_AIML\\Cafeteria_Management\\Code\\Bench-Detection-2\\train\\images\\Image123_jpg.rf.50a15392281c41ae2fbf2363e242f6b4.jpg: ignoring corrupt image/label: Label class 3 exceeds dataset class count 2. Possible class labels are 0-1\n",
      "\u001b[34m\u001b[1mtrain: \u001b[0mWARNING  C:\\Users\\DHAIRYA\\VA-Project_AIML\\Cafeteria_Management\\Code\\Bench-Detection-2\\train\\images\\Image124_jpg.rf.d621db4640be9bf38dae8a56160eb4ef.jpg: ignoring corrupt image/label: Label class 3 exceeds dataset class count 2. Possible class labels are 0-1\n",
      "\u001b[34m\u001b[1mtrain: \u001b[0mWARNING  C:\\Users\\DHAIRYA\\VA-Project_AIML\\Cafeteria_Management\\Code\\Bench-Detection-2\\train\\images\\Image126_jpg.rf.f2b39df2a104a281229466dcf7bbe2e2.jpg: ignoring corrupt image/label: Label class 3 exceeds dataset class count 2. Possible class labels are 0-1\n",
      "\u001b[34m\u001b[1mtrain: \u001b[0mWARNING  C:\\Users\\DHAIRYA\\VA-Project_AIML\\Cafeteria_Management\\Code\\Bench-Detection-2\\train\\images\\Image127_jpg.rf.f3788f58583c74d76f41f6e033167402.jpg: ignoring corrupt image/label: Label class 3 exceeds dataset class count 2. Possible class labels are 0-1\n",
      "\u001b[34m\u001b[1mtrain: \u001b[0mWARNING  C:\\Users\\DHAIRYA\\VA-Project_AIML\\Cafeteria_Management\\Code\\Bench-Detection-2\\train\\images\\Image128_jpg.rf.34532939613ca61162ca2600265d11fc.jpg: ignoring corrupt image/label: Label class 3 exceeds dataset class count 2. Possible class labels are 0-1\n",
      "\u001b[34m\u001b[1mtrain: \u001b[0mWARNING  C:\\Users\\DHAIRYA\\VA-Project_AIML\\Cafeteria_Management\\Code\\Bench-Detection-2\\train\\images\\Image129_jpg.rf.222ef7bf92559df2debc06fd7ca2db52.jpg: ignoring corrupt image/label: Label class 3 exceeds dataset class count 2. Possible class labels are 0-1\n",
      "\u001b[34m\u001b[1mtrain: \u001b[0mWARNING  C:\\Users\\DHAIRYA\\VA-Project_AIML\\Cafeteria_Management\\Code\\Bench-Detection-2\\train\\images\\Image12_jpg.rf.436fdf63eb06881df8f47af285bfa52c.jpg: ignoring corrupt image/label: Label class 3 exceeds dataset class count 2. Possible class labels are 0-1\n",
      "\u001b[34m\u001b[1mtrain: \u001b[0mWARNING  C:\\Users\\DHAIRYA\\VA-Project_AIML\\Cafeteria_Management\\Code\\Bench-Detection-2\\train\\images\\Image130_jpg.rf.b17d37512a1bde93fe2b5408030e491d.jpg: ignoring corrupt image/label: Label class 3 exceeds dataset class count 2. Possible class labels are 0-1\n",
      "\u001b[34m\u001b[1mtrain: \u001b[0mWARNING  C:\\Users\\DHAIRYA\\VA-Project_AIML\\Cafeteria_Management\\Code\\Bench-Detection-2\\train\\images\\Image131_jpg.rf.818a128140c933be268acbc48210c007.jpg: ignoring corrupt image/label: Label class 3 exceeds dataset class count 2. Possible class labels are 0-1\n",
      "\u001b[34m\u001b[1mtrain: \u001b[0mWARNING  C:\\Users\\DHAIRYA\\VA-Project_AIML\\Cafeteria_Management\\Code\\Bench-Detection-2\\train\\images\\Image132_jpg.rf.b67d70e4003eb76f5ffb772e08707a35.jpg: ignoring corrupt image/label: Label class 3 exceeds dataset class count 2. Possible class labels are 0-1\n",
      "\u001b[34m\u001b[1mtrain: \u001b[0mWARNING  C:\\Users\\DHAIRYA\\VA-Project_AIML\\Cafeteria_Management\\Code\\Bench-Detection-2\\train\\images\\Image134_jpg.rf.cc8dd6d8dbeb77cf5fcfd243e7b37877.jpg: ignoring corrupt image/label: Label class 3 exceeds dataset class count 2. Possible class labels are 0-1\n",
      "\u001b[34m\u001b[1mtrain: \u001b[0mWARNING  C:\\Users\\DHAIRYA\\VA-Project_AIML\\Cafeteria_Management\\Code\\Bench-Detection-2\\train\\images\\Image135_jpg.rf.d6ecf1ec37a72e0698160ada5fd8845b.jpg: ignoring corrupt image/label: Label class 3 exceeds dataset class count 2. Possible class labels are 0-1\n",
      "\u001b[34m\u001b[1mtrain: \u001b[0mWARNING  C:\\Users\\DHAIRYA\\VA-Project_AIML\\Cafeteria_Management\\Code\\Bench-Detection-2\\train\\images\\Image136_jpg.rf.1e9a249edfd0586ab4b4713c597dd3d3.jpg: ignoring corrupt image/label: Label class 3 exceeds dataset class count 2. Possible class labels are 0-1\n",
      "\u001b[34m\u001b[1mtrain: \u001b[0mWARNING  C:\\Users\\DHAIRYA\\VA-Project_AIML\\Cafeteria_Management\\Code\\Bench-Detection-2\\train\\images\\Image137_jpg.rf.98f265c6e60883966f0024879967ac8b.jpg: ignoring corrupt image/label: Label class 3 exceeds dataset class count 2. Possible class labels are 0-1\n",
      "\u001b[34m\u001b[1mtrain: \u001b[0mWARNING  C:\\Users\\DHAIRYA\\VA-Project_AIML\\Cafeteria_Management\\Code\\Bench-Detection-2\\train\\images\\Image13_jpg.rf.ce35de838c97edd9f017f85221690999.jpg: ignoring corrupt image/label: Label class 3 exceeds dataset class count 2. Possible class labels are 0-1\n",
      "\u001b[34m\u001b[1mtrain: \u001b[0mWARNING  C:\\Users\\DHAIRYA\\VA-Project_AIML\\Cafeteria_Management\\Code\\Bench-Detection-2\\train\\images\\Image140_jpg.rf.c777f04a8fa3509cc3f72b1088f79b43.jpg: ignoring corrupt image/label: Label class 3 exceeds dataset class count 2. Possible class labels are 0-1\n",
      "\u001b[34m\u001b[1mtrain: \u001b[0mWARNING  C:\\Users\\DHAIRYA\\VA-Project_AIML\\Cafeteria_Management\\Code\\Bench-Detection-2\\train\\images\\Image141_jpg.rf.0b9cf38f540834e893dbee10d8437099.jpg: ignoring corrupt image/label: Label class 3 exceeds dataset class count 2. Possible class labels are 0-1\n",
      "\u001b[34m\u001b[1mtrain: \u001b[0mWARNING  C:\\Users\\DHAIRYA\\VA-Project_AIML\\Cafeteria_Management\\Code\\Bench-Detection-2\\train\\images\\Image142_jpg.rf.852a76cc88a220f5fbdb550b1065fcbc.jpg: ignoring corrupt image/label: Label class 3 exceeds dataset class count 2. Possible class labels are 0-1\n",
      "\u001b[34m\u001b[1mtrain: \u001b[0mWARNING  C:\\Users\\DHAIRYA\\VA-Project_AIML\\Cafeteria_Management\\Code\\Bench-Detection-2\\train\\images\\Image146_jpg.rf.43ce7aff1a6a4b477497c9707325f43e.jpg: ignoring corrupt image/label: Label class 3 exceeds dataset class count 2. Possible class labels are 0-1\n",
      "\u001b[34m\u001b[1mtrain: \u001b[0mWARNING  C:\\Users\\DHAIRYA\\VA-Project_AIML\\Cafeteria_Management\\Code\\Bench-Detection-2\\train\\images\\Image148_jpg.rf.8032f2965ae4eb1f8e0c87a52f132c5b.jpg: ignoring corrupt image/label: Label class 3 exceeds dataset class count 2. Possible class labels are 0-1\n",
      "\u001b[34m\u001b[1mtrain: \u001b[0mWARNING  C:\\Users\\DHAIRYA\\VA-Project_AIML\\Cafeteria_Management\\Code\\Bench-Detection-2\\train\\images\\Image149_jpg.rf.00c6ac2eb1540c0799a54f09cfb5f118.jpg: ignoring corrupt image/label: Label class 3 exceeds dataset class count 2. Possible class labels are 0-1\n",
      "\u001b[34m\u001b[1mtrain: \u001b[0mWARNING  C:\\Users\\DHAIRYA\\VA-Project_AIML\\Cafeteria_Management\\Code\\Bench-Detection-2\\train\\images\\Image14_jpg.rf.cb17df48815fb63a948108a32e7970c7.jpg: ignoring corrupt image/label: Label class 3 exceeds dataset class count 2. Possible class labels are 0-1\n",
      "\u001b[34m\u001b[1mtrain: \u001b[0mWARNING  C:\\Users\\DHAIRYA\\VA-Project_AIML\\Cafeteria_Management\\Code\\Bench-Detection-2\\train\\images\\Image150_jpg.rf.2b31f809213099526940a1564b75b9e6.jpg: ignoring corrupt image/label: Label class 3 exceeds dataset class count 2. Possible class labels are 0-1\n",
      "\u001b[34m\u001b[1mtrain: \u001b[0mWARNING  C:\\Users\\DHAIRYA\\VA-Project_AIML\\Cafeteria_Management\\Code\\Bench-Detection-2\\train\\images\\Image152_jpg.rf.59170c9371677f0dbdd186231275cd4c.jpg: ignoring corrupt image/label: Label class 3 exceeds dataset class count 2. Possible class labels are 0-1\n",
      "\u001b[34m\u001b[1mtrain: \u001b[0mWARNING  C:\\Users\\DHAIRYA\\VA-Project_AIML\\Cafeteria_Management\\Code\\Bench-Detection-2\\train\\images\\Image153_jpg.rf.7d8b0ee123c7168c3676c8b9b7ce10b7.jpg: ignoring corrupt image/label: Label class 3 exceeds dataset class count 2. Possible class labels are 0-1\n",
      "\u001b[34m\u001b[1mtrain: \u001b[0mWARNING  C:\\Users\\DHAIRYA\\VA-Project_AIML\\Cafeteria_Management\\Code\\Bench-Detection-2\\train\\images\\Image154_jpg.rf.6dad3c5253e7d10f01e024490cb39b15.jpg: ignoring corrupt image/label: Label class 3 exceeds dataset class count 2. Possible class labels are 0-1\n",
      "\u001b[34m\u001b[1mtrain: \u001b[0mWARNING  C:\\Users\\DHAIRYA\\VA-Project_AIML\\Cafeteria_Management\\Code\\Bench-Detection-2\\train\\images\\Image156_jpg.rf.21e2846901ff51b67b1aef44ed1932df.jpg: ignoring corrupt image/label: Label class 3 exceeds dataset class count 2. Possible class labels are 0-1\n",
      "\u001b[34m\u001b[1mtrain: \u001b[0mWARNING  C:\\Users\\DHAIRYA\\VA-Project_AIML\\Cafeteria_Management\\Code\\Bench-Detection-2\\train\\images\\Image157_jpg.rf.7bea2ffd709b2012cb23c0aabce82f88.jpg: ignoring corrupt image/label: Label class 3 exceeds dataset class count 2. Possible class labels are 0-1\n",
      "\u001b[34m\u001b[1mtrain: \u001b[0mWARNING  C:\\Users\\DHAIRYA\\VA-Project_AIML\\Cafeteria_Management\\Code\\Bench-Detection-2\\train\\images\\Image161_jpg.rf.404ea1a1b18d463e45b409bf8c8998b3.jpg: ignoring corrupt image/label: Label class 3 exceeds dataset class count 2. Possible class labels are 0-1\n",
      "\u001b[34m\u001b[1mtrain: \u001b[0mWARNING  C:\\Users\\DHAIRYA\\VA-Project_AIML\\Cafeteria_Management\\Code\\Bench-Detection-2\\train\\images\\Image162_jpg.rf.a74213118755c3cd622b6d0dafe86980.jpg: ignoring corrupt image/label: Label class 3 exceeds dataset class count 2. Possible class labels are 0-1\n",
      "\u001b[34m\u001b[1mtrain: \u001b[0mWARNING  C:\\Users\\DHAIRYA\\VA-Project_AIML\\Cafeteria_Management\\Code\\Bench-Detection-2\\train\\images\\Image163_jpg.rf.2171b8da3d0a086d95f979b0839452c7.jpg: ignoring corrupt image/label: Label class 3 exceeds dataset class count 2. Possible class labels are 0-1\n",
      "\u001b[34m\u001b[1mtrain: \u001b[0mWARNING  C:\\Users\\DHAIRYA\\VA-Project_AIML\\Cafeteria_Management\\Code\\Bench-Detection-2\\train\\images\\Image164_jpg.rf.a24d2fac45c542399d69d1903fc9af5d.jpg: ignoring corrupt image/label: Label class 3 exceeds dataset class count 2. Possible class labels are 0-1\n",
      "\u001b[34m\u001b[1mtrain: \u001b[0mWARNING  C:\\Users\\DHAIRYA\\VA-Project_AIML\\Cafeteria_Management\\Code\\Bench-Detection-2\\train\\images\\Image165_jpg.rf.c48c095eebf2deb67a488511ec4a64ea.jpg: ignoring corrupt image/label: Label class 3 exceeds dataset class count 2. Possible class labels are 0-1\n",
      "\u001b[34m\u001b[1mtrain: \u001b[0mWARNING  C:\\Users\\DHAIRYA\\VA-Project_AIML\\Cafeteria_Management\\Code\\Bench-Detection-2\\train\\images\\Image166_jpg.rf.28e8eb507ec61398afa60d9f03988dcf.jpg: ignoring corrupt image/label: Label class 3 exceeds dataset class count 2. Possible class labels are 0-1\n",
      "\u001b[34m\u001b[1mtrain: \u001b[0mWARNING  C:\\Users\\DHAIRYA\\VA-Project_AIML\\Cafeteria_Management\\Code\\Bench-Detection-2\\train\\images\\Image167_jpg.rf.59f291f986aa30b294cf2ce346607965.jpg: ignoring corrupt image/label: Label class 3 exceeds dataset class count 2. Possible class labels are 0-1\n",
      "\u001b[34m\u001b[1mtrain: \u001b[0mWARNING  C:\\Users\\DHAIRYA\\VA-Project_AIML\\Cafeteria_Management\\Code\\Bench-Detection-2\\train\\images\\Image169_jpg.rf.206657a651e21452154f2d693bff4f0f.jpg: ignoring corrupt image/label: Label class 3 exceeds dataset class count 2. Possible class labels are 0-1\n",
      "\u001b[34m\u001b[1mtrain: \u001b[0mWARNING  C:\\Users\\DHAIRYA\\VA-Project_AIML\\Cafeteria_Management\\Code\\Bench-Detection-2\\train\\images\\Image170_jpg.rf.6a02cecc46fe2f47521f7e51527f0922.jpg: ignoring corrupt image/label: Label class 3 exceeds dataset class count 2. Possible class labels are 0-1\n",
      "\u001b[34m\u001b[1mtrain: \u001b[0mWARNING  C:\\Users\\DHAIRYA\\VA-Project_AIML\\Cafeteria_Management\\Code\\Bench-Detection-2\\train\\images\\Image171_jpg.rf.693e28f48cff788fca5eec8a1d55c2b5.jpg: ignoring corrupt image/label: Label class 3 exceeds dataset class count 2. Possible class labels are 0-1\n",
      "\u001b[34m\u001b[1mtrain: \u001b[0mWARNING  C:\\Users\\DHAIRYA\\VA-Project_AIML\\Cafeteria_Management\\Code\\Bench-Detection-2\\train\\images\\Image172_jpg.rf.1f35437b1ad0cf70d992f8d4dd776a1e.jpg: ignoring corrupt image/label: Label class 3 exceeds dataset class count 2. Possible class labels are 0-1\n",
      "\u001b[34m\u001b[1mtrain: \u001b[0mWARNING  C:\\Users\\DHAIRYA\\VA-Project_AIML\\Cafeteria_Management\\Code\\Bench-Detection-2\\train\\images\\Image173_jpg.rf.fbdf4cb6d5620003a1b9d366a2eeb2d4.jpg: ignoring corrupt image/label: Label class 3 exceeds dataset class count 2. Possible class labels are 0-1\n",
      "\u001b[34m\u001b[1mtrain: \u001b[0mWARNING  C:\\Users\\DHAIRYA\\VA-Project_AIML\\Cafeteria_Management\\Code\\Bench-Detection-2\\train\\images\\Image174_jpg.rf.85f8e44ad4ccb6de946191bc6f1964ee.jpg: ignoring corrupt image/label: Label class 3 exceeds dataset class count 2. Possible class labels are 0-1\n",
      "\u001b[34m\u001b[1mtrain: \u001b[0mWARNING  C:\\Users\\DHAIRYA\\VA-Project_AIML\\Cafeteria_Management\\Code\\Bench-Detection-2\\train\\images\\Image175_jpg.rf.6a102d06bd750dae275c220efad4d1e0.jpg: ignoring corrupt image/label: Label class 3 exceeds dataset class count 2. Possible class labels are 0-1\n",
      "\u001b[34m\u001b[1mtrain: \u001b[0mWARNING  C:\\Users\\DHAIRYA\\VA-Project_AIML\\Cafeteria_Management\\Code\\Bench-Detection-2\\train\\images\\Image176_jpg.rf.0d0e109f6556709b8338c7691aec7e35.jpg: ignoring corrupt image/label: Label class 3 exceeds dataset class count 2. Possible class labels are 0-1\n",
      "\u001b[34m\u001b[1mtrain: \u001b[0mWARNING  C:\\Users\\DHAIRYA\\VA-Project_AIML\\Cafeteria_Management\\Code\\Bench-Detection-2\\train\\images\\Image177_jpg.rf.d57c36e2eced46251f19cb7dc5eea993.jpg: ignoring corrupt image/label: Label class 3 exceeds dataset class count 2. Possible class labels are 0-1\n",
      "\u001b[34m\u001b[1mtrain: \u001b[0mWARNING  C:\\Users\\DHAIRYA\\VA-Project_AIML\\Cafeteria_Management\\Code\\Bench-Detection-2\\train\\images\\Image179_jpg.rf.32066461f2b24751da8d2c53851fc05c.jpg: ignoring corrupt image/label: Label class 3 exceeds dataset class count 2. Possible class labels are 0-1\n",
      "\u001b[34m\u001b[1mtrain: \u001b[0mWARNING  C:\\Users\\DHAIRYA\\VA-Project_AIML\\Cafeteria_Management\\Code\\Bench-Detection-2\\train\\images\\Image17_jpg.rf.ac8b25c57b2719cc5fb7f90a9d87080a.jpg: ignoring corrupt image/label: Label class 3 exceeds dataset class count 2. Possible class labels are 0-1\n",
      "\u001b[34m\u001b[1mtrain: \u001b[0mWARNING  C:\\Users\\DHAIRYA\\VA-Project_AIML\\Cafeteria_Management\\Code\\Bench-Detection-2\\train\\images\\Image180_jpg.rf.45c03e793cd85893a42fa632d12fa6bc.jpg: ignoring corrupt image/label: Label class 3 exceeds dataset class count 2. Possible class labels are 0-1\n",
      "\u001b[34m\u001b[1mtrain: \u001b[0mWARNING  C:\\Users\\DHAIRYA\\VA-Project_AIML\\Cafeteria_Management\\Code\\Bench-Detection-2\\train\\images\\Image182_jpg.rf.d32980db96f5ad12398e3f6b66b904e5.jpg: ignoring corrupt image/label: Label class 3 exceeds dataset class count 2. Possible class labels are 0-1\n",
      "\u001b[34m\u001b[1mtrain: \u001b[0mWARNING  C:\\Users\\DHAIRYA\\VA-Project_AIML\\Cafeteria_Management\\Code\\Bench-Detection-2\\train\\images\\Image183_jpg.rf.e9bb61855fd195e365e971fbbd395551.jpg: ignoring corrupt image/label: Label class 3 exceeds dataset class count 2. Possible class labels are 0-1\n",
      "\u001b[34m\u001b[1mtrain: \u001b[0mWARNING  C:\\Users\\DHAIRYA\\VA-Project_AIML\\Cafeteria_Management\\Code\\Bench-Detection-2\\train\\images\\Image184_jpg.rf.a0d3d72bdc55ab3359ad3c4f3b95d737.jpg: ignoring corrupt image/label: Label class 3 exceeds dataset class count 2. Possible class labels are 0-1\n",
      "\u001b[34m\u001b[1mtrain: \u001b[0mWARNING  C:\\Users\\DHAIRYA\\VA-Project_AIML\\Cafeteria_Management\\Code\\Bench-Detection-2\\train\\images\\Image185_jpg.rf.087f8c8ed5a17b1348b57943fb3b9f56.jpg: ignoring corrupt image/label: Label class 3 exceeds dataset class count 2. Possible class labels are 0-1\n",
      "\u001b[34m\u001b[1mtrain: \u001b[0mWARNING  C:\\Users\\DHAIRYA\\VA-Project_AIML\\Cafeteria_Management\\Code\\Bench-Detection-2\\train\\images\\Image186_jpg.rf.18907dacb556f32d914f8ac460fe8e75.jpg: ignoring corrupt image/label: Label class 3 exceeds dataset class count 2. Possible class labels are 0-1\n",
      "\u001b[34m\u001b[1mtrain: \u001b[0mWARNING  C:\\Users\\DHAIRYA\\VA-Project_AIML\\Cafeteria_Management\\Code\\Bench-Detection-2\\train\\images\\Image187_jpg.rf.544c058cfab9a158e0aeef59e9db00bc.jpg: ignoring corrupt image/label: Label class 3 exceeds dataset class count 2. Possible class labels are 0-1\n",
      "\u001b[34m\u001b[1mtrain: \u001b[0mWARNING  C:\\Users\\DHAIRYA\\VA-Project_AIML\\Cafeteria_Management\\Code\\Bench-Detection-2\\train\\images\\Image18_jpg.rf.6d087aa755d7b30ea56765f3d4b3643e.jpg: ignoring corrupt image/label: Label class 3 exceeds dataset class count 2. Possible class labels are 0-1\n",
      "\u001b[34m\u001b[1mtrain: \u001b[0mWARNING  C:\\Users\\DHAIRYA\\VA-Project_AIML\\Cafeteria_Management\\Code\\Bench-Detection-2\\train\\images\\Image190_jpg.rf.1f2c096dfa4971ac5f6dc487f25e92f6.jpg: ignoring corrupt image/label: Label class 3 exceeds dataset class count 2. Possible class labels are 0-1\n",
      "\u001b[34m\u001b[1mtrain: \u001b[0mWARNING  C:\\Users\\DHAIRYA\\VA-Project_AIML\\Cafeteria_Management\\Code\\Bench-Detection-2\\train\\images\\Image191_jpg.rf.0e807e703fa3e3521841caf26d3c26f2.jpg: ignoring corrupt image/label: Label class 3 exceeds dataset class count 2. Possible class labels are 0-1\n",
      "\u001b[34m\u001b[1mtrain: \u001b[0mWARNING  C:\\Users\\DHAIRYA\\VA-Project_AIML\\Cafeteria_Management\\Code\\Bench-Detection-2\\train\\images\\Image192_jpg.rf.76485dca184d502070d266fdca338a5a.jpg: ignoring corrupt image/label: Label class 3 exceeds dataset class count 2. Possible class labels are 0-1\n",
      "\u001b[34m\u001b[1mtrain: \u001b[0mWARNING  C:\\Users\\DHAIRYA\\VA-Project_AIML\\Cafeteria_Management\\Code\\Bench-Detection-2\\train\\images\\Image193_jpg.rf.e9f9290763c33d8e7384e1ed93221c5a.jpg: ignoring corrupt image/label: Label class 3 exceeds dataset class count 2. Possible class labels are 0-1\n",
      "\u001b[34m\u001b[1mtrain: \u001b[0mWARNING  C:\\Users\\DHAIRYA\\VA-Project_AIML\\Cafeteria_Management\\Code\\Bench-Detection-2\\train\\images\\Image194_jpg.rf.fef1e72561a3d4b4b1e7336edb32910c.jpg: ignoring corrupt image/label: Label class 3 exceeds dataset class count 2. Possible class labels are 0-1\n",
      "\u001b[34m\u001b[1mtrain: \u001b[0mWARNING  C:\\Users\\DHAIRYA\\VA-Project_AIML\\Cafeteria_Management\\Code\\Bench-Detection-2\\train\\images\\Image195_jpg.rf.bbbed6e48ad77cc60b3d3b091c5ff9b6.jpg: ignoring corrupt image/label: Label class 3 exceeds dataset class count 2. Possible class labels are 0-1\n",
      "\u001b[34m\u001b[1mtrain: \u001b[0mWARNING  C:\\Users\\DHAIRYA\\VA-Project_AIML\\Cafeteria_Management\\Code\\Bench-Detection-2\\train\\images\\Image196_jpg.rf.0382a27c8fd234fd3a9ad360d8d55e83.jpg: ignoring corrupt image/label: Label class 3 exceeds dataset class count 2. Possible class labels are 0-1\n",
      "\u001b[34m\u001b[1mtrain: \u001b[0mWARNING  C:\\Users\\DHAIRYA\\VA-Project_AIML\\Cafeteria_Management\\Code\\Bench-Detection-2\\train\\images\\Image198_jpg.rf.09f4a17cc0c9d6eca08a45c305f4852e.jpg: ignoring corrupt image/label: Label class 3 exceeds dataset class count 2. Possible class labels are 0-1\n",
      "\u001b[34m\u001b[1mtrain: \u001b[0mWARNING  C:\\Users\\DHAIRYA\\VA-Project_AIML\\Cafeteria_Management\\Code\\Bench-Detection-2\\train\\images\\Image19_jpg.rf.df5ffa75527e0a7cbc2d1493f25ea623.jpg: ignoring corrupt image/label: Label class 3 exceeds dataset class count 2. Possible class labels are 0-1\n",
      "\u001b[34m\u001b[1mtrain: \u001b[0mWARNING  C:\\Users\\DHAIRYA\\VA-Project_AIML\\Cafeteria_Management\\Code\\Bench-Detection-2\\train\\images\\Image1_jpg.rf.6a0fbb4f41e822275473be3e945a2cd2.jpg: ignoring corrupt image/label: Label class 3 exceeds dataset class count 2. Possible class labels are 0-1\n",
      "\u001b[34m\u001b[1mtrain: \u001b[0mWARNING  C:\\Users\\DHAIRYA\\VA-Project_AIML\\Cafeteria_Management\\Code\\Bench-Detection-2\\train\\images\\Image200_jpg.rf.fabc894bffa2e97d08a2dca6cae5299d.jpg: ignoring corrupt image/label: Label class 3 exceeds dataset class count 2. Possible class labels are 0-1\n",
      "\u001b[34m\u001b[1mtrain: \u001b[0mWARNING  C:\\Users\\DHAIRYA\\VA-Project_AIML\\Cafeteria_Management\\Code\\Bench-Detection-2\\train\\images\\Image202_jpg.rf.0b0b1d11cb0bbbebff1c1d15b7cc762c.jpg: ignoring corrupt image/label: Label class 3 exceeds dataset class count 2. Possible class labels are 0-1\n",
      "\u001b[34m\u001b[1mtrain: \u001b[0mWARNING  C:\\Users\\DHAIRYA\\VA-Project_AIML\\Cafeteria_Management\\Code\\Bench-Detection-2\\train\\images\\Image204_jpg.rf.d460f2d452ad555b4b7936cbd85c44de.jpg: ignoring corrupt image/label: Label class 3 exceeds dataset class count 2. Possible class labels are 0-1\n",
      "\u001b[34m\u001b[1mtrain: \u001b[0mWARNING  C:\\Users\\DHAIRYA\\VA-Project_AIML\\Cafeteria_Management\\Code\\Bench-Detection-2\\train\\images\\Image206_jpg.rf.86d9e2b2540ae4acaa9f7504f26cb59c.jpg: ignoring corrupt image/label: Label class 3 exceeds dataset class count 2. Possible class labels are 0-1\n",
      "\u001b[34m\u001b[1mtrain: \u001b[0mWARNING  C:\\Users\\DHAIRYA\\VA-Project_AIML\\Cafeteria_Management\\Code\\Bench-Detection-2\\train\\images\\Image207_jpg.rf.6ea4486e91656237022c3a28c47213a2.jpg: ignoring corrupt image/label: Label class 3 exceeds dataset class count 2. Possible class labels are 0-1\n",
      "\u001b[34m\u001b[1mtrain: \u001b[0mWARNING  C:\\Users\\DHAIRYA\\VA-Project_AIML\\Cafeteria_Management\\Code\\Bench-Detection-2\\train\\images\\Image209_jpg.rf.2b91e60200f65a6acfbc1134613317ce.jpg: ignoring corrupt image/label: Label class 3 exceeds dataset class count 2. Possible class labels are 0-1\n",
      "\u001b[34m\u001b[1mtrain: \u001b[0mWARNING  C:\\Users\\DHAIRYA\\VA-Project_AIML\\Cafeteria_Management\\Code\\Bench-Detection-2\\train\\images\\Image20_jpg.rf.6e6f0b11fc0b4fd11e143a6a739d6d96.jpg: ignoring corrupt image/label: Label class 3 exceeds dataset class count 2. Possible class labels are 0-1\n",
      "\u001b[34m\u001b[1mtrain: \u001b[0mWARNING  C:\\Users\\DHAIRYA\\VA-Project_AIML\\Cafeteria_Management\\Code\\Bench-Detection-2\\train\\images\\Image211_jpg.rf.4007a3b6ecff486d26904742019c7e53.jpg: ignoring corrupt image/label: Label class 3 exceeds dataset class count 2. Possible class labels are 0-1\n",
      "\u001b[34m\u001b[1mtrain: \u001b[0mWARNING  C:\\Users\\DHAIRYA\\VA-Project_AIML\\Cafeteria_Management\\Code\\Bench-Detection-2\\train\\images\\Image212_jpg.rf.82c9aedd0e70c35fa4f5225078d1fa6a.jpg: ignoring corrupt image/label: Label class 3 exceeds dataset class count 2. Possible class labels are 0-1\n",
      "\u001b[34m\u001b[1mtrain: \u001b[0mWARNING  C:\\Users\\DHAIRYA\\VA-Project_AIML\\Cafeteria_Management\\Code\\Bench-Detection-2\\train\\images\\Image213_jpg.rf.c769ad530d81f7a41db55b87157483b7.jpg: ignoring corrupt image/label: Label class 3 exceeds dataset class count 2. Possible class labels are 0-1\n",
      "\u001b[34m\u001b[1mtrain: \u001b[0mWARNING  C:\\Users\\DHAIRYA\\VA-Project_AIML\\Cafeteria_Management\\Code\\Bench-Detection-2\\train\\images\\Image214_jpg.rf.5a634de865e2881e15a0a01808b69d0b.jpg: ignoring corrupt image/label: Label class 3 exceeds dataset class count 2. Possible class labels are 0-1\n",
      "\u001b[34m\u001b[1mtrain: \u001b[0mWARNING  C:\\Users\\DHAIRYA\\VA-Project_AIML\\Cafeteria_Management\\Code\\Bench-Detection-2\\train\\images\\Image215_jpg.rf.d723b1a0b67ac575682c38864d04545c.jpg: ignoring corrupt image/label: Label class 3 exceeds dataset class count 2. Possible class labels are 0-1\n",
      "\u001b[34m\u001b[1mtrain: \u001b[0mWARNING  C:\\Users\\DHAIRYA\\VA-Project_AIML\\Cafeteria_Management\\Code\\Bench-Detection-2\\train\\images\\Image216_jpg.rf.bf9bd9b49eca0f423974a542b8806e23.jpg: ignoring corrupt image/label: Label class 3 exceeds dataset class count 2. Possible class labels are 0-1\n",
      "\u001b[34m\u001b[1mtrain: \u001b[0mWARNING  C:\\Users\\DHAIRYA\\VA-Project_AIML\\Cafeteria_Management\\Code\\Bench-Detection-2\\train\\images\\Image21_jpg.rf.dd18caae217dd75551fde79a4288f6d0.jpg: ignoring corrupt image/label: Label class 3 exceeds dataset class count 2. Possible class labels are 0-1\n",
      "\u001b[34m\u001b[1mtrain: \u001b[0mWARNING  C:\\Users\\DHAIRYA\\VA-Project_AIML\\Cafeteria_Management\\Code\\Bench-Detection-2\\train\\images\\Image22_jpg.rf.a50cfa29fe21dd4ed3d8c2f50f5a09cb.jpg: ignoring corrupt image/label: Label class 3 exceeds dataset class count 2. Possible class labels are 0-1\n",
      "\u001b[34m\u001b[1mtrain: \u001b[0mWARNING  C:\\Users\\DHAIRYA\\VA-Project_AIML\\Cafeteria_Management\\Code\\Bench-Detection-2\\train\\images\\Image23_jpg.rf.22ef7dee98c72a78b8a93a8e7b20b04e.jpg: ignoring corrupt image/label: Label class 3 exceeds dataset class count 2. Possible class labels are 0-1\n",
      "\u001b[34m\u001b[1mtrain: \u001b[0mWARNING  C:\\Users\\DHAIRYA\\VA-Project_AIML\\Cafeteria_Management\\Code\\Bench-Detection-2\\train\\images\\Image24_jpg.rf.abcec8e2aaa04ff5c85e08c24e9800ed.jpg: ignoring corrupt image/label: Label class 3 exceeds dataset class count 2. Possible class labels are 0-1\n",
      "\u001b[34m\u001b[1mtrain: \u001b[0mWARNING  C:\\Users\\DHAIRYA\\VA-Project_AIML\\Cafeteria_Management\\Code\\Bench-Detection-2\\train\\images\\Image25_jpg.rf.38bdab72ca499cb9735afdb208e0e226.jpg: ignoring corrupt image/label: Label class 3 exceeds dataset class count 2. Possible class labels are 0-1\n",
      "\u001b[34m\u001b[1mtrain: \u001b[0mWARNING  C:\\Users\\DHAIRYA\\VA-Project_AIML\\Cafeteria_Management\\Code\\Bench-Detection-2\\train\\images\\Image27_jpg.rf.5dd0f7018491ed7b3d207b5305f7de8d.jpg: ignoring corrupt image/label: Label class 3 exceeds dataset class count 2. Possible class labels are 0-1\n",
      "\u001b[34m\u001b[1mtrain: \u001b[0mWARNING  C:\\Users\\DHAIRYA\\VA-Project_AIML\\Cafeteria_Management\\Code\\Bench-Detection-2\\train\\images\\Image29_jpg.rf.9ca4ab07e4544780b43499441dfb3845.jpg: ignoring corrupt image/label: Label class 3 exceeds dataset class count 2. Possible class labels are 0-1\n",
      "\u001b[34m\u001b[1mtrain: \u001b[0mWARNING  C:\\Users\\DHAIRYA\\VA-Project_AIML\\Cafeteria_Management\\Code\\Bench-Detection-2\\train\\images\\Image30_jpg.rf.b81a7a9c765387635e34030fa9accda1.jpg: ignoring corrupt image/label: Label class 3 exceeds dataset class count 2. Possible class labels are 0-1\n",
      "\u001b[34m\u001b[1mtrain: \u001b[0mWARNING  C:\\Users\\DHAIRYA\\VA-Project_AIML\\Cafeteria_Management\\Code\\Bench-Detection-2\\train\\images\\Image32_jpg.rf.0e84a0efb4665dc2130122f8899d5790.jpg: ignoring corrupt image/label: Label class 3 exceeds dataset class count 2. Possible class labels are 0-1\n",
      "\u001b[34m\u001b[1mtrain: \u001b[0mWARNING  C:\\Users\\DHAIRYA\\VA-Project_AIML\\Cafeteria_Management\\Code\\Bench-Detection-2\\train\\images\\Image34_jpg.rf.b7f8bd39b450c3e80dcab23588d9dc49.jpg: ignoring corrupt image/label: Label class 3 exceeds dataset class count 2. Possible class labels are 0-1\n",
      "\u001b[34m\u001b[1mtrain: \u001b[0mWARNING  C:\\Users\\DHAIRYA\\VA-Project_AIML\\Cafeteria_Management\\Code\\Bench-Detection-2\\train\\images\\Image36_jpg.rf.d7c4aa6e7ef868425ad8bb33208279ba.jpg: ignoring corrupt image/label: Label class 3 exceeds dataset class count 2. Possible class labels are 0-1\n",
      "\u001b[34m\u001b[1mtrain: \u001b[0mWARNING  C:\\Users\\DHAIRYA\\VA-Project_AIML\\Cafeteria_Management\\Code\\Bench-Detection-2\\train\\images\\Image3_jpg.rf.0355b1938fb6d51093ba3a92ccac5be5.jpg: ignoring corrupt image/label: Label class 3 exceeds dataset class count 2. Possible class labels are 0-1\n",
      "\u001b[34m\u001b[1mtrain: \u001b[0mWARNING  C:\\Users\\DHAIRYA\\VA-Project_AIML\\Cafeteria_Management\\Code\\Bench-Detection-2\\train\\images\\Image40_jpg.rf.d6967e55871a29f786f5ba02e8772061.jpg: ignoring corrupt image/label: Label class 3 exceeds dataset class count 2. Possible class labels are 0-1\n",
      "\u001b[34m\u001b[1mtrain: \u001b[0mWARNING  C:\\Users\\DHAIRYA\\VA-Project_AIML\\Cafeteria_Management\\Code\\Bench-Detection-2\\train\\images\\Image42_jpg.rf.a700ace86d4ae5e0024c39c60686c3ef.jpg: ignoring corrupt image/label: Label class 3 exceeds dataset class count 2. Possible class labels are 0-1\n",
      "\u001b[34m\u001b[1mtrain: \u001b[0mWARNING  C:\\Users\\DHAIRYA\\VA-Project_AIML\\Cafeteria_Management\\Code\\Bench-Detection-2\\train\\images\\Image43_jpg.rf.6116b0a098e1371ab20161be749868b9.jpg: ignoring corrupt image/label: Label class 3 exceeds dataset class count 2. Possible class labels are 0-1\n",
      "\u001b[34m\u001b[1mtrain: \u001b[0mWARNING  C:\\Users\\DHAIRYA\\VA-Project_AIML\\Cafeteria_Management\\Code\\Bench-Detection-2\\train\\images\\Image44_jpg.rf.ff4999731e2cd80fde81ffdae5a84b75.jpg: ignoring corrupt image/label: Label class 3 exceeds dataset class count 2. Possible class labels are 0-1\n",
      "\u001b[34m\u001b[1mtrain: \u001b[0mWARNING  C:\\Users\\DHAIRYA\\VA-Project_AIML\\Cafeteria_Management\\Code\\Bench-Detection-2\\train\\images\\Image45_jpg.rf.b5d1140ae006a6b8ad0f65a2b7a9a33f.jpg: ignoring corrupt image/label: Label class 3 exceeds dataset class count 2. Possible class labels are 0-1\n",
      "\u001b[34m\u001b[1mtrain: \u001b[0mWARNING  C:\\Users\\DHAIRYA\\VA-Project_AIML\\Cafeteria_Management\\Code\\Bench-Detection-2\\train\\images\\Image46_jpg.rf.8786102d63c54839bb1300d5740a82fb.jpg: ignoring corrupt image/label: Label class 3 exceeds dataset class count 2. Possible class labels are 0-1\n",
      "\u001b[34m\u001b[1mtrain: \u001b[0mWARNING  C:\\Users\\DHAIRYA\\VA-Project_AIML\\Cafeteria_Management\\Code\\Bench-Detection-2\\train\\images\\Image47_jpg.rf.0925dd20b7c2c4bd1e39e675c1806c7a.jpg: ignoring corrupt image/label: Label class 3 exceeds dataset class count 2. Possible class labels are 0-1\n",
      "\u001b[34m\u001b[1mtrain: \u001b[0mWARNING  C:\\Users\\DHAIRYA\\VA-Project_AIML\\Cafeteria_Management\\Code\\Bench-Detection-2\\train\\images\\Image49_jpg.rf.4f97edb3cdb56e492e66edd0df6725ad.jpg: ignoring corrupt image/label: Label class 3 exceeds dataset class count 2. Possible class labels are 0-1\n",
      "\u001b[34m\u001b[1mtrain: \u001b[0mWARNING  C:\\Users\\DHAIRYA\\VA-Project_AIML\\Cafeteria_Management\\Code\\Bench-Detection-2\\train\\images\\Image4_jpg.rf.e071d13fb5678bd24f18302bff5e43a4.jpg: ignoring corrupt image/label: Label class 3 exceeds dataset class count 2. Possible class labels are 0-1\n",
      "\u001b[34m\u001b[1mtrain: \u001b[0mWARNING  C:\\Users\\DHAIRYA\\VA-Project_AIML\\Cafeteria_Management\\Code\\Bench-Detection-2\\train\\images\\Image50_jpg.rf.a92388834e09a82245c201f2eaebd78e.jpg: ignoring corrupt image/label: Label class 3 exceeds dataset class count 2. Possible class labels are 0-1\n",
      "\u001b[34m\u001b[1mtrain: \u001b[0mWARNING  C:\\Users\\DHAIRYA\\VA-Project_AIML\\Cafeteria_Management\\Code\\Bench-Detection-2\\train\\images\\Image52_jpg.rf.bc8a4fed041e4145bd98a526c9171196.jpg: ignoring corrupt image/label: Label class 3 exceeds dataset class count 2. Possible class labels are 0-1\n",
      "\u001b[34m\u001b[1mtrain: \u001b[0mWARNING  C:\\Users\\DHAIRYA\\VA-Project_AIML\\Cafeteria_Management\\Code\\Bench-Detection-2\\train\\images\\Image53_jpg.rf.f07c4ecc696ffd12357eaa492c7ca810.jpg: ignoring corrupt image/label: Label class 3 exceeds dataset class count 2. Possible class labels are 0-1\n",
      "\u001b[34m\u001b[1mtrain: \u001b[0mWARNING  C:\\Users\\DHAIRYA\\VA-Project_AIML\\Cafeteria_Management\\Code\\Bench-Detection-2\\train\\images\\Image55_jpg.rf.4c0ee68ccef7f8b198a60aeba103fd18.jpg: ignoring corrupt image/label: Label class 3 exceeds dataset class count 2. Possible class labels are 0-1\n",
      "\u001b[34m\u001b[1mtrain: \u001b[0mWARNING  C:\\Users\\DHAIRYA\\VA-Project_AIML\\Cafeteria_Management\\Code\\Bench-Detection-2\\train\\images\\Image57_jpg.rf.56501976e2dffb282d4d1852d58a758b.jpg: ignoring corrupt image/label: Label class 3 exceeds dataset class count 2. Possible class labels are 0-1\n",
      "\u001b[34m\u001b[1mtrain: \u001b[0mWARNING  C:\\Users\\DHAIRYA\\VA-Project_AIML\\Cafeteria_Management\\Code\\Bench-Detection-2\\train\\images\\Image58_jpg.rf.471f76eff79dcdc51bf1073d2addbd68.jpg: ignoring corrupt image/label: Label class 3 exceeds dataset class count 2. Possible class labels are 0-1\n",
      "\u001b[34m\u001b[1mtrain: \u001b[0mWARNING  C:\\Users\\DHAIRYA\\VA-Project_AIML\\Cafeteria_Management\\Code\\Bench-Detection-2\\train\\images\\Image59_jpg.rf.71f60e4e30371f66ad772d00c938f611.jpg: ignoring corrupt image/label: Label class 3 exceeds dataset class count 2. Possible class labels are 0-1\n",
      "\u001b[34m\u001b[1mtrain: \u001b[0mWARNING  C:\\Users\\DHAIRYA\\VA-Project_AIML\\Cafeteria_Management\\Code\\Bench-Detection-2\\train\\images\\Image60_jpg.rf.ab025d27ea35144de36e06e1ab30e7ab.jpg: ignoring corrupt image/label: Label class 3 exceeds dataset class count 2. Possible class labels are 0-1\n",
      "\u001b[34m\u001b[1mtrain: \u001b[0mWARNING  C:\\Users\\DHAIRYA\\VA-Project_AIML\\Cafeteria_Management\\Code\\Bench-Detection-2\\train\\images\\Image61_jpg.rf.641039f5c9878c6f6a1aeab0db52802b.jpg: ignoring corrupt image/label: Label class 3 exceeds dataset class count 2. Possible class labels are 0-1\n",
      "\u001b[34m\u001b[1mtrain: \u001b[0mWARNING  C:\\Users\\DHAIRYA\\VA-Project_AIML\\Cafeteria_Management\\Code\\Bench-Detection-2\\train\\images\\Image62_jpg.rf.e5e6fbd020adc6714132c8f050d88e4f.jpg: ignoring corrupt image/label: Label class 3 exceeds dataset class count 2. Possible class labels are 0-1\n",
      "\u001b[34m\u001b[1mtrain: \u001b[0mWARNING  C:\\Users\\DHAIRYA\\VA-Project_AIML\\Cafeteria_Management\\Code\\Bench-Detection-2\\train\\images\\Image64_jpg.rf.673c8808427c46b71cae940dd02ccb6b.jpg: ignoring corrupt image/label: Label class 3 exceeds dataset class count 2. Possible class labels are 0-1\n",
      "\u001b[34m\u001b[1mtrain: \u001b[0mWARNING  C:\\Users\\DHAIRYA\\VA-Project_AIML\\Cafeteria_Management\\Code\\Bench-Detection-2\\train\\images\\Image65_jpg.rf.d5ce5c3a0a984877d70b01406f6a9b8d.jpg: ignoring corrupt image/label: Label class 3 exceeds dataset class count 2. Possible class labels are 0-1\n",
      "\u001b[34m\u001b[1mtrain: \u001b[0mWARNING  C:\\Users\\DHAIRYA\\VA-Project_AIML\\Cafeteria_Management\\Code\\Bench-Detection-2\\train\\images\\Image66_jpg.rf.268017a30b44b576573a1de3ea57118d.jpg: ignoring corrupt image/label: Label class 3 exceeds dataset class count 2. Possible class labels are 0-1\n",
      "\u001b[34m\u001b[1mtrain: \u001b[0mWARNING  C:\\Users\\DHAIRYA\\VA-Project_AIML\\Cafeteria_Management\\Code\\Bench-Detection-2\\train\\images\\Image67_jpg.rf.dffd7bcc3c853c668ffc286feff82202.jpg: ignoring corrupt image/label: Label class 3 exceeds dataset class count 2. Possible class labels are 0-1\n",
      "\u001b[34m\u001b[1mtrain: \u001b[0mWARNING  C:\\Users\\DHAIRYA\\VA-Project_AIML\\Cafeteria_Management\\Code\\Bench-Detection-2\\train\\images\\Image69_jpg.rf.5aa583af0661943a9a9f2aa420c9a3ef.jpg: ignoring corrupt image/label: Label class 3 exceeds dataset class count 2. Possible class labels are 0-1\n",
      "\u001b[34m\u001b[1mtrain: \u001b[0mWARNING  C:\\Users\\DHAIRYA\\VA-Project_AIML\\Cafeteria_Management\\Code\\Bench-Detection-2\\train\\images\\Image6_jpg.rf.0137c2d8b66f4d0378b769aaa22aa16a.jpg: ignoring corrupt image/label: Label class 3 exceeds dataset class count 2. Possible class labels are 0-1\n",
      "\u001b[34m\u001b[1mtrain: \u001b[0mWARNING  C:\\Users\\DHAIRYA\\VA-Project_AIML\\Cafeteria_Management\\Code\\Bench-Detection-2\\train\\images\\Image70_jpg.rf.5ece123cdc4d8e9a11c5e0b45e874cf7.jpg: ignoring corrupt image/label: Label class 3 exceeds dataset class count 2. Possible class labels are 0-1\n",
      "\u001b[34m\u001b[1mtrain: \u001b[0mWARNING  C:\\Users\\DHAIRYA\\VA-Project_AIML\\Cafeteria_Management\\Code\\Bench-Detection-2\\train\\images\\Image71_jpg.rf.b72a5d52dde39a283824b7ec5d383d25.jpg: ignoring corrupt image/label: Label class 3 exceeds dataset class count 2. Possible class labels are 0-1\n",
      "\u001b[34m\u001b[1mtrain: \u001b[0mWARNING  C:\\Users\\DHAIRYA\\VA-Project_AIML\\Cafeteria_Management\\Code\\Bench-Detection-2\\train\\images\\Image72_jpg.rf.06eb3914d420281d33db8a53768f226a.jpg: ignoring corrupt image/label: Label class 3 exceeds dataset class count 2. Possible class labels are 0-1\n",
      "\u001b[34m\u001b[1mtrain: \u001b[0mWARNING  C:\\Users\\DHAIRYA\\VA-Project_AIML\\Cafeteria_Management\\Code\\Bench-Detection-2\\train\\images\\Image73_jpg.rf.814750efb4545c99ef1235f05b42f829.jpg: ignoring corrupt image/label: Label class 3 exceeds dataset class count 2. Possible class labels are 0-1\n",
      "\u001b[34m\u001b[1mtrain: \u001b[0mWARNING  C:\\Users\\DHAIRYA\\VA-Project_AIML\\Cafeteria_Management\\Code\\Bench-Detection-2\\train\\images\\Image75_jpg.rf.bb66fe23a5bf95e51555256d81810a3d.jpg: ignoring corrupt image/label: Label class 3 exceeds dataset class count 2. Possible class labels are 0-1\n",
      "\u001b[34m\u001b[1mtrain: \u001b[0mWARNING  C:\\Users\\DHAIRYA\\VA-Project_AIML\\Cafeteria_Management\\Code\\Bench-Detection-2\\train\\images\\Image77_jpg.rf.cea2a1ca453904ee9937b2244754cb93.jpg: ignoring corrupt image/label: Label class 3 exceeds dataset class count 2. Possible class labels are 0-1\n",
      "\u001b[34m\u001b[1mtrain: \u001b[0mWARNING  C:\\Users\\DHAIRYA\\VA-Project_AIML\\Cafeteria_Management\\Code\\Bench-Detection-2\\train\\images\\Image78_jpg.rf.79df83bd8f2fd3a92fbf3c4d9a9520c4.jpg: ignoring corrupt image/label: Label class 3 exceeds dataset class count 2. Possible class labels are 0-1\n",
      "\u001b[34m\u001b[1mtrain: \u001b[0mWARNING  C:\\Users\\DHAIRYA\\VA-Project_AIML\\Cafeteria_Management\\Code\\Bench-Detection-2\\train\\images\\Image7_jpg.rf.ea6ecd82218474c64309e8b7416def2f.jpg: ignoring corrupt image/label: Label class 3 exceeds dataset class count 2. Possible class labels are 0-1\n",
      "\u001b[34m\u001b[1mtrain: \u001b[0mWARNING  C:\\Users\\DHAIRYA\\VA-Project_AIML\\Cafeteria_Management\\Code\\Bench-Detection-2\\train\\images\\Image81_jpg.rf.67914444dc6dee00faa92cb3740f0408.jpg: ignoring corrupt image/label: Label class 3 exceeds dataset class count 2. Possible class labels are 0-1\n",
      "\u001b[34m\u001b[1mtrain: \u001b[0mWARNING  C:\\Users\\DHAIRYA\\VA-Project_AIML\\Cafeteria_Management\\Code\\Bench-Detection-2\\train\\images\\Image82_jpg.rf.94882c4cbc408c2b5f52ece58ee94f98.jpg: ignoring corrupt image/label: Label class 3 exceeds dataset class count 2. Possible class labels are 0-1\n",
      "\u001b[34m\u001b[1mtrain: \u001b[0mWARNING  C:\\Users\\DHAIRYA\\VA-Project_AIML\\Cafeteria_Management\\Code\\Bench-Detection-2\\train\\images\\Image83_jpg.rf.826ba5a2adf76c3c38bccd1f92053a63.jpg: ignoring corrupt image/label: Label class 3 exceeds dataset class count 2. Possible class labels are 0-1\n",
      "\u001b[34m\u001b[1mtrain: \u001b[0mWARNING  C:\\Users\\DHAIRYA\\VA-Project_AIML\\Cafeteria_Management\\Code\\Bench-Detection-2\\train\\images\\Image84_jpg.rf.feee300a9f158d6cc0e8ee42ff4aeea2.jpg: ignoring corrupt image/label: Label class 3 exceeds dataset class count 2. Possible class labels are 0-1\n",
      "\u001b[34m\u001b[1mtrain: \u001b[0mWARNING  C:\\Users\\DHAIRYA\\VA-Project_AIML\\Cafeteria_Management\\Code\\Bench-Detection-2\\train\\images\\Image85_jpg.rf.7e38211997cd0fe21fd56f1ae8536b66.jpg: ignoring corrupt image/label: Label class 3 exceeds dataset class count 2. Possible class labels are 0-1\n",
      "\u001b[34m\u001b[1mtrain: \u001b[0mWARNING  C:\\Users\\DHAIRYA\\VA-Project_AIML\\Cafeteria_Management\\Code\\Bench-Detection-2\\train\\images\\Image86_jpg.rf.2520e147f0e6d8a8482743e9ebd947a8.jpg: ignoring corrupt image/label: Label class 3 exceeds dataset class count 2. Possible class labels are 0-1\n",
      "\u001b[34m\u001b[1mtrain: \u001b[0mWARNING  C:\\Users\\DHAIRYA\\VA-Project_AIML\\Cafeteria_Management\\Code\\Bench-Detection-2\\train\\images\\Image87_jpg.rf.02125702d63aee18c68425c5412b4647.jpg: ignoring corrupt image/label: Label class 3 exceeds dataset class count 2. Possible class labels are 0-1\n",
      "\u001b[34m\u001b[1mtrain: \u001b[0mWARNING  C:\\Users\\DHAIRYA\\VA-Project_AIML\\Cafeteria_Management\\Code\\Bench-Detection-2\\train\\images\\Image88_jpg.rf.28874db81fd77c6acfdf27636d3169f1.jpg: ignoring corrupt image/label: Label class 3 exceeds dataset class count 2. Possible class labels are 0-1\n",
      "\u001b[34m\u001b[1mtrain: \u001b[0mWARNING  C:\\Users\\DHAIRYA\\VA-Project_AIML\\Cafeteria_Management\\Code\\Bench-Detection-2\\train\\images\\Image8_jpg.rf.439612c77424990127b2a87f51a29a2f.jpg: ignoring corrupt image/label: Label class 3 exceeds dataset class count 2. Possible class labels are 0-1\n",
      "\u001b[34m\u001b[1mtrain: \u001b[0mWARNING  C:\\Users\\DHAIRYA\\VA-Project_AIML\\Cafeteria_Management\\Code\\Bench-Detection-2\\train\\images\\Image91_jpg.rf.1f2489e6eee1df50072ffaf2a292f368.jpg: ignoring corrupt image/label: Label class 3 exceeds dataset class count 2. Possible class labels are 0-1\n",
      "\u001b[34m\u001b[1mtrain: \u001b[0mWARNING  C:\\Users\\DHAIRYA\\VA-Project_AIML\\Cafeteria_Management\\Code\\Bench-Detection-2\\train\\images\\Image92_jpg.rf.e38724aa90c0f00e92cfae4020922074.jpg: ignoring corrupt image/label: Label class 3 exceeds dataset class count 2. Possible class labels are 0-1\n",
      "\u001b[34m\u001b[1mtrain: \u001b[0mWARNING  C:\\Users\\DHAIRYA\\VA-Project_AIML\\Cafeteria_Management\\Code\\Bench-Detection-2\\train\\images\\Image94_jpg.rf.90ee5f36e79c30b8bb76b72e2bdaccdb.jpg: ignoring corrupt image/label: Label class 3 exceeds dataset class count 2. Possible class labels are 0-1\n",
      "\u001b[34m\u001b[1mtrain: \u001b[0mWARNING  C:\\Users\\DHAIRYA\\VA-Project_AIML\\Cafeteria_Management\\Code\\Bench-Detection-2\\train\\images\\Image96_jpg.rf.3e703470e1c68c35143837e0a566970a.jpg: ignoring corrupt image/label: Label class 3 exceeds dataset class count 2. Possible class labels are 0-1\n",
      "\u001b[34m\u001b[1mtrain: \u001b[0mWARNING  C:\\Users\\DHAIRYA\\VA-Project_AIML\\Cafeteria_Management\\Code\\Bench-Detection-2\\train\\images\\Image98_jpg.rf.38be983c1905bd6328cec00ae8ca3700.jpg: ignoring corrupt image/label: Label class 3 exceeds dataset class count 2. Possible class labels are 0-1\n",
      "\u001b[34m\u001b[1mtrain: \u001b[0mWARNING  C:\\Users\\DHAIRYA\\VA-Project_AIML\\Cafeteria_Management\\Code\\Bench-Detection-2\\train\\images\\Image99_jpg.rf.53fd7b85b6289bdda5869717c11865f9.jpg: ignoring corrupt image/label: Label class 3 exceeds dataset class count 2. Possible class labels are 0-1\n",
      "\u001b[34m\u001b[1mtrain: \u001b[0mWARNING  C:\\Users\\DHAIRYA\\VA-Project_AIML\\Cafeteria_Management\\Code\\Bench-Detection-2\\train\\images\\frame_100_jpg.rf.e9355af91e1a31dfd9d86959ea29ea1e.jpg: ignoring corrupt image/label: Label class 3 exceeds dataset class count 2. Possible class labels are 0-1\n",
      "\u001b[34m\u001b[1mtrain: \u001b[0mWARNING  C:\\Users\\DHAIRYA\\VA-Project_AIML\\Cafeteria_Management\\Code\\Bench-Detection-2\\train\\images\\frame_105_jpg.rf.cb0f5894ba5084a8089d3de7fe02cc64.jpg: ignoring corrupt image/label: Label class 3 exceeds dataset class count 2. Possible class labels are 0-1\n",
      "\u001b[34m\u001b[1mtrain: \u001b[0mWARNING  C:\\Users\\DHAIRYA\\VA-Project_AIML\\Cafeteria_Management\\Code\\Bench-Detection-2\\train\\images\\frame_10_jpg.rf.98d05cce5f728a8771438e4a1daff79c.jpg: ignoring corrupt image/label: Label class 3 exceeds dataset class count 2. Possible class labels are 0-1\n",
      "\u001b[34m\u001b[1mtrain: \u001b[0mWARNING  C:\\Users\\DHAIRYA\\VA-Project_AIML\\Cafeteria_Management\\Code\\Bench-Detection-2\\train\\images\\frame_110_jpg.rf.e9b02c9383315d9b0ebe69f0c6560f09.jpg: ignoring corrupt image/label: Label class 3 exceeds dataset class count 2. Possible class labels are 0-1\n",
      "\u001b[34m\u001b[1mtrain: \u001b[0mWARNING  C:\\Users\\DHAIRYA\\VA-Project_AIML\\Cafeteria_Management\\Code\\Bench-Detection-2\\train\\images\\frame_115_jpg.rf.4520c4424a678e900e5fbb6b8f647bba.jpg: ignoring corrupt image/label: Label class 3 exceeds dataset class count 2. Possible class labels are 0-1\n",
      "\u001b[34m\u001b[1mtrain: \u001b[0mWARNING  C:\\Users\\DHAIRYA\\VA-Project_AIML\\Cafeteria_Management\\Code\\Bench-Detection-2\\train\\images\\frame_120_jpg.rf.c604e4062498865a82b9a5dfa498b3da.jpg: ignoring corrupt image/label: Label class 3 exceeds dataset class count 2. Possible class labels are 0-1\n",
      "\u001b[34m\u001b[1mtrain: \u001b[0mWARNING  C:\\Users\\DHAIRYA\\VA-Project_AIML\\Cafeteria_Management\\Code\\Bench-Detection-2\\train\\images\\frame_125_jpg.rf.90e5a0e21eed7920ba72a2d205bfd09a.jpg: ignoring corrupt image/label: Label class 3 exceeds dataset class count 2. Possible class labels are 0-1\n",
      "\u001b[34m\u001b[1mtrain: \u001b[0mWARNING  C:\\Users\\DHAIRYA\\VA-Project_AIML\\Cafeteria_Management\\Code\\Bench-Detection-2\\train\\images\\frame_130_jpg.rf.c96c7aa1f1e8e92bb2a7c5f8a5ac9df1.jpg: ignoring corrupt image/label: Label class 3 exceeds dataset class count 2. Possible class labels are 0-1\n",
      "\u001b[34m\u001b[1mtrain: \u001b[0mWARNING  C:\\Users\\DHAIRYA\\VA-Project_AIML\\Cafeteria_Management\\Code\\Bench-Detection-2\\train\\images\\frame_150_jpg.rf.0a539686965c8f7ccdfaba1f01e2fb31.jpg: ignoring corrupt image/label: Label class 3 exceeds dataset class count 2. Possible class labels are 0-1\n",
      "\u001b[34m\u001b[1mtrain: \u001b[0mWARNING  C:\\Users\\DHAIRYA\\VA-Project_AIML\\Cafeteria_Management\\Code\\Bench-Detection-2\\train\\images\\frame_155_jpg.rf.55b4df8493aeadd70db7d775225e00da.jpg: ignoring corrupt image/label: Label class 3 exceeds dataset class count 2. Possible class labels are 0-1\n",
      "\u001b[34m\u001b[1mtrain: \u001b[0mWARNING  C:\\Users\\DHAIRYA\\VA-Project_AIML\\Cafeteria_Management\\Code\\Bench-Detection-2\\train\\images\\frame_15_jpg.rf.794f4220900c85cbf6bd1372966885a2.jpg: ignoring corrupt image/label: Label class 3 exceeds dataset class count 2. Possible class labels are 0-1\n",
      "\u001b[34m\u001b[1mtrain: \u001b[0mWARNING  C:\\Users\\DHAIRYA\\VA-Project_AIML\\Cafeteria_Management\\Code\\Bench-Detection-2\\train\\images\\frame_170_jpg.rf.d7c39ba739f4aaaf9edb6994b9857bd2.jpg: ignoring corrupt image/label: Label class 3 exceeds dataset class count 2. Possible class labels are 0-1\n",
      "\u001b[34m\u001b[1mtrain: \u001b[0mWARNING  C:\\Users\\DHAIRYA\\VA-Project_AIML\\Cafeteria_Management\\Code\\Bench-Detection-2\\train\\images\\frame_175_jpg.rf.6b31dfe7b70e47f75f49b9b0fbb0b931.jpg: ignoring corrupt image/label: Label class 3 exceeds dataset class count 2. Possible class labels are 0-1\n",
      "\u001b[34m\u001b[1mtrain: \u001b[0mWARNING  C:\\Users\\DHAIRYA\\VA-Project_AIML\\Cafeteria_Management\\Code\\Bench-Detection-2\\train\\images\\frame_180_jpg.rf.c8bca8d6d5db47aa31c3eb5320804d4f.jpg: ignoring corrupt image/label: Label class 3 exceeds dataset class count 2. Possible class labels are 0-1\n",
      "\u001b[34m\u001b[1mtrain: \u001b[0mWARNING  C:\\Users\\DHAIRYA\\VA-Project_AIML\\Cafeteria_Management\\Code\\Bench-Detection-2\\train\\images\\frame_185_jpg.rf.9bdc9b346481deae44272a0f6db1b9a3.jpg: ignoring corrupt image/label: Label class 3 exceeds dataset class count 2. Possible class labels are 0-1\n",
      "\u001b[34m\u001b[1mtrain: \u001b[0mWARNING  C:\\Users\\DHAIRYA\\VA-Project_AIML\\Cafeteria_Management\\Code\\Bench-Detection-2\\train\\images\\frame_195_jpg.rf.a5cc5b357b749b06f5c1cc33383c80f3.jpg: ignoring corrupt image/label: Label class 3 exceeds dataset class count 2. Possible class labels are 0-1\n",
      "\u001b[34m\u001b[1mtrain: \u001b[0mWARNING  C:\\Users\\DHAIRYA\\VA-Project_AIML\\Cafeteria_Management\\Code\\Bench-Detection-2\\train\\images\\frame_200_jpg.rf.457d3dd507933981edbc1b64ce04eb6e.jpg: ignoring corrupt image/label: Label class 3 exceeds dataset class count 2. Possible class labels are 0-1\n",
      "\u001b[34m\u001b[1mtrain: \u001b[0mWARNING  C:\\Users\\DHAIRYA\\VA-Project_AIML\\Cafeteria_Management\\Code\\Bench-Detection-2\\train\\images\\frame_205_jpg.rf.57077daa43581c1442487a7ecc1ac20a.jpg: ignoring corrupt image/label: Label class 3 exceeds dataset class count 2. Possible class labels are 0-1\n",
      "\u001b[34m\u001b[1mtrain: \u001b[0mWARNING  C:\\Users\\DHAIRYA\\VA-Project_AIML\\Cafeteria_Management\\Code\\Bench-Detection-2\\train\\images\\frame_20_jpg.rf.015e0cf2a6ae57c0cee3bf5a393c588f.jpg: ignoring corrupt image/label: Label class 3 exceeds dataset class count 2. Possible class labels are 0-1\n",
      "\u001b[34m\u001b[1mtrain: \u001b[0mWARNING  C:\\Users\\DHAIRYA\\VA-Project_AIML\\Cafeteria_Management\\Code\\Bench-Detection-2\\train\\images\\frame_220_jpg.rf.203ecc7dda61d5ccb7c60e002455893c.jpg: ignoring corrupt image/label: Label class 3 exceeds dataset class count 2. Possible class labels are 0-1\n",
      "\u001b[34m\u001b[1mtrain: \u001b[0mWARNING  C:\\Users\\DHAIRYA\\VA-Project_AIML\\Cafeteria_Management\\Code\\Bench-Detection-2\\train\\images\\frame_230_jpg.rf.378782deba38ef1fca530d2e39d161af.jpg: ignoring corrupt image/label: Label class 3 exceeds dataset class count 2. Possible class labels are 0-1\n",
      "\u001b[34m\u001b[1mtrain: \u001b[0mWARNING  C:\\Users\\DHAIRYA\\VA-Project_AIML\\Cafeteria_Management\\Code\\Bench-Detection-2\\train\\images\\frame_240_jpg.rf.d37813b0fbc695721ae82cb737ddcc81.jpg: ignoring corrupt image/label: Label class 3 exceeds dataset class count 2. Possible class labels are 0-1\n",
      "\u001b[34m\u001b[1mtrain: \u001b[0mWARNING  C:\\Users\\DHAIRYA\\VA-Project_AIML\\Cafeteria_Management\\Code\\Bench-Detection-2\\train\\images\\frame_245_jpg.rf.6f4fa25ea6ad24781a184aa024454a2f.jpg: ignoring corrupt image/label: Label class 3 exceeds dataset class count 2. Possible class labels are 0-1\n",
      "\u001b[34m\u001b[1mtrain: \u001b[0mWARNING  C:\\Users\\DHAIRYA\\VA-Project_AIML\\Cafeteria_Management\\Code\\Bench-Detection-2\\train\\images\\frame_250_jpg.rf.244c9839aeb2c46aa0342f0d898fec10.jpg: ignoring corrupt image/label: Label class 3 exceeds dataset class count 2. Possible class labels are 0-1\n",
      "\u001b[34m\u001b[1mtrain: \u001b[0mWARNING  C:\\Users\\DHAIRYA\\VA-Project_AIML\\Cafeteria_Management\\Code\\Bench-Detection-2\\train\\images\\frame_25_jpg.rf.5fbfe4b8d47afb4c97d71e9fdd779bc9.jpg: ignoring corrupt image/label: Label class 3 exceeds dataset class count 2. Possible class labels are 0-1\n",
      "\u001b[34m\u001b[1mtrain: \u001b[0mWARNING  C:\\Users\\DHAIRYA\\VA-Project_AIML\\Cafeteria_Management\\Code\\Bench-Detection-2\\train\\images\\frame_260_jpg.rf.b463ff7dfb545026d949b307b53eb6c3.jpg: ignoring corrupt image/label: Label class 3 exceeds dataset class count 2. Possible class labels are 0-1\n",
      "\u001b[34m\u001b[1mtrain: \u001b[0mWARNING  C:\\Users\\DHAIRYA\\VA-Project_AIML\\Cafeteria_Management\\Code\\Bench-Detection-2\\train\\images\\frame_265_jpg.rf.80bb52fca85c888f57e30fef052c502c.jpg: ignoring corrupt image/label: Label class 3 exceeds dataset class count 2. Possible class labels are 0-1\n",
      "\u001b[34m\u001b[1mtrain: \u001b[0mWARNING  C:\\Users\\DHAIRYA\\VA-Project_AIML\\Cafeteria_Management\\Code\\Bench-Detection-2\\train\\images\\frame_275_jpg.rf.1d8eed4447f320548a5ae390b89b9137.jpg: ignoring corrupt image/label: Label class 3 exceeds dataset class count 2. Possible class labels are 0-1\n",
      "\u001b[34m\u001b[1mtrain: \u001b[0mWARNING  C:\\Users\\DHAIRYA\\VA-Project_AIML\\Cafeteria_Management\\Code\\Bench-Detection-2\\train\\images\\frame_280_jpg.rf.8005159ec2ee55fd6112e5e78f5d4fc0.jpg: ignoring corrupt image/label: Label class 3 exceeds dataset class count 2. Possible class labels are 0-1\n",
      "\u001b[34m\u001b[1mtrain: \u001b[0mWARNING  C:\\Users\\DHAIRYA\\VA-Project_AIML\\Cafeteria_Management\\Code\\Bench-Detection-2\\train\\images\\frame_285_jpg.rf.00e61617314d72eb3e00fdd0708d83d5.jpg: ignoring corrupt image/label: Label class 3 exceeds dataset class count 2. Possible class labels are 0-1\n",
      "\u001b[34m\u001b[1mtrain: \u001b[0mWARNING  C:\\Users\\DHAIRYA\\VA-Project_AIML\\Cafeteria_Management\\Code\\Bench-Detection-2\\train\\images\\frame_290_jpg.rf.e34523358e5d3774c491d6734aa1d4f8.jpg: ignoring corrupt image/label: Label class 3 exceeds dataset class count 2. Possible class labels are 0-1\n",
      "\u001b[34m\u001b[1mtrain: \u001b[0mWARNING  C:\\Users\\DHAIRYA\\VA-Project_AIML\\Cafeteria_Management\\Code\\Bench-Detection-2\\train\\images\\frame_295_jpg.rf.02bcc5ee8755a51889aae09d9c32a57e.jpg: ignoring corrupt image/label: Label class 3 exceeds dataset class count 2. Possible class labels are 0-1\n",
      "\u001b[34m\u001b[1mtrain: \u001b[0mWARNING  C:\\Users\\DHAIRYA\\VA-Project_AIML\\Cafeteria_Management\\Code\\Bench-Detection-2\\train\\images\\frame_300_jpg.rf.1253fee7b6fed86996f613328e22acfb.jpg: ignoring corrupt image/label: Label class 3 exceeds dataset class count 2. Possible class labels are 0-1\n",
      "\u001b[34m\u001b[1mtrain: \u001b[0mWARNING  C:\\Users\\DHAIRYA\\VA-Project_AIML\\Cafeteria_Management\\Code\\Bench-Detection-2\\train\\images\\frame_310_jpg.rf.f3ea177d278349cf5f740e2ba49aeb75.jpg: ignoring corrupt image/label: Label class 3 exceeds dataset class count 2. Possible class labels are 0-1\n",
      "\u001b[34m\u001b[1mtrain: \u001b[0mWARNING  C:\\Users\\DHAIRYA\\VA-Project_AIML\\Cafeteria_Management\\Code\\Bench-Detection-2\\train\\images\\frame_315_jpg.rf.0917dd5079532c30608c537e38c765ac.jpg: ignoring corrupt image/label: Label class 3 exceeds dataset class count 2. Possible class labels are 0-1\n",
      "\u001b[34m\u001b[1mtrain: \u001b[0mWARNING  C:\\Users\\DHAIRYA\\VA-Project_AIML\\Cafeteria_Management\\Code\\Bench-Detection-2\\train\\images\\frame_320_jpg.rf.6ef66ddfda321ecab26be2b7d479814b.jpg: ignoring corrupt image/label: Label class 3 exceeds dataset class count 2. Possible class labels are 0-1\n",
      "\u001b[34m\u001b[1mtrain: \u001b[0mWARNING  C:\\Users\\DHAIRYA\\VA-Project_AIML\\Cafeteria_Management\\Code\\Bench-Detection-2\\train\\images\\frame_325_jpg.rf.4836981da7a578013130a9ee339de649.jpg: ignoring corrupt image/label: Label class 3 exceeds dataset class count 2. Possible class labels are 0-1\n",
      "\u001b[34m\u001b[1mtrain: \u001b[0mWARNING  C:\\Users\\DHAIRYA\\VA-Project_AIML\\Cafeteria_Management\\Code\\Bench-Detection-2\\train\\images\\frame_330_jpg.rf.066c60190c039a5f2b8098338e82c7bd.jpg: ignoring corrupt image/label: Label class 3 exceeds dataset class count 2. Possible class labels are 0-1\n",
      "\u001b[34m\u001b[1mtrain: \u001b[0mWARNING  C:\\Users\\DHAIRYA\\VA-Project_AIML\\Cafeteria_Management\\Code\\Bench-Detection-2\\train\\images\\frame_340_jpg.rf.51e5ef7f5f889a3d65b7ea9bd48621c0.jpg: ignoring corrupt image/label: Label class 3 exceeds dataset class count 2. Possible class labels are 0-1\n",
      "\u001b[34m\u001b[1mtrain: \u001b[0mWARNING  C:\\Users\\DHAIRYA\\VA-Project_AIML\\Cafeteria_Management\\Code\\Bench-Detection-2\\train\\images\\frame_345_jpg.rf.487dca2bdd63164284c9d5f8eef8a8b2.jpg: ignoring corrupt image/label: Label class 3 exceeds dataset class count 2. Possible class labels are 0-1\n",
      "\u001b[34m\u001b[1mtrain: \u001b[0mWARNING  C:\\Users\\DHAIRYA\\VA-Project_AIML\\Cafeteria_Management\\Code\\Bench-Detection-2\\train\\images\\frame_355_jpg.rf.da9b4db2b1c257a557a10c861392bcc8.jpg: ignoring corrupt image/label: Label class 3 exceeds dataset class count 2. Possible class labels are 0-1\n",
      "\u001b[34m\u001b[1mtrain: \u001b[0mWARNING  C:\\Users\\DHAIRYA\\VA-Project_AIML\\Cafeteria_Management\\Code\\Bench-Detection-2\\train\\images\\frame_360_jpg.rf.d82f379235e0f57b1fd2d4102b05a1c1.jpg: ignoring corrupt image/label: Label class 3 exceeds dataset class count 2. Possible class labels are 0-1\n",
      "\u001b[34m\u001b[1mtrain: \u001b[0mWARNING  C:\\Users\\DHAIRYA\\VA-Project_AIML\\Cafeteria_Management\\Code\\Bench-Detection-2\\train\\images\\frame_375_jpg.rf.021a31680e0b0de86f63690c574432de.jpg: ignoring corrupt image/label: Label class 3 exceeds dataset class count 2. Possible class labels are 0-1\n",
      "\u001b[34m\u001b[1mtrain: \u001b[0mWARNING  C:\\Users\\DHAIRYA\\VA-Project_AIML\\Cafeteria_Management\\Code\\Bench-Detection-2\\train\\images\\frame_385_jpg.rf.69d289dc11867c5e642c6fc271e30895.jpg: ignoring corrupt image/label: Label class 3 exceeds dataset class count 2. Possible class labels are 0-1\n",
      "\u001b[34m\u001b[1mtrain: \u001b[0mWARNING  C:\\Users\\DHAIRYA\\VA-Project_AIML\\Cafeteria_Management\\Code\\Bench-Detection-2\\train\\images\\frame_390_jpg.rf.b156fbaeac34f9c6cc9443553db72271.jpg: ignoring corrupt image/label: Label class 3 exceeds dataset class count 2. Possible class labels are 0-1\n",
      "\u001b[34m\u001b[1mtrain: \u001b[0mWARNING  C:\\Users\\DHAIRYA\\VA-Project_AIML\\Cafeteria_Management\\Code\\Bench-Detection-2\\train\\images\\frame_395_jpg.rf.2d175eecd2337369732ec6c823bf93c2.jpg: ignoring corrupt image/label: Label class 3 exceeds dataset class count 2. Possible class labels are 0-1\n",
      "\u001b[34m\u001b[1mtrain: \u001b[0mWARNING  C:\\Users\\DHAIRYA\\VA-Project_AIML\\Cafeteria_Management\\Code\\Bench-Detection-2\\train\\images\\frame_400_jpg.rf.6ba563d80be05d293af542e61c903e17.jpg: ignoring corrupt image/label: Label class 3 exceeds dataset class count 2. Possible class labels are 0-1\n",
      "\u001b[34m\u001b[1mtrain: \u001b[0mWARNING  C:\\Users\\DHAIRYA\\VA-Project_AIML\\Cafeteria_Management\\Code\\Bench-Detection-2\\train\\images\\frame_405_jpg.rf.de45a3aaf8b0c076a64ccc692c317555.jpg: ignoring corrupt image/label: Label class 3 exceeds dataset class count 2. Possible class labels are 0-1\n",
      "\u001b[34m\u001b[1mtrain: \u001b[0mWARNING  C:\\Users\\DHAIRYA\\VA-Project_AIML\\Cafeteria_Management\\Code\\Bench-Detection-2\\train\\images\\frame_40_jpg.rf.d457849bf4baec1016ba604e9b6085ec.jpg: ignoring corrupt image/label: Label class 3 exceeds dataset class count 2. Possible class labels are 0-1\n",
      "\u001b[34m\u001b[1mtrain: \u001b[0mWARNING  C:\\Users\\DHAIRYA\\VA-Project_AIML\\Cafeteria_Management\\Code\\Bench-Detection-2\\train\\images\\frame_410_jpg.rf.c68744c4a69790a03a174ea73b9bb958.jpg: ignoring corrupt image/label: Label class 3 exceeds dataset class count 2. Possible class labels are 0-1\n",
      "\u001b[34m\u001b[1mtrain: \u001b[0mWARNING  C:\\Users\\DHAIRYA\\VA-Project_AIML\\Cafeteria_Management\\Code\\Bench-Detection-2\\train\\images\\frame_415_jpg.rf.2d07ba5bce2fd5b3c2832367646c2381.jpg: ignoring corrupt image/label: Label class 3 exceeds dataset class count 2. Possible class labels are 0-1\n",
      "\u001b[34m\u001b[1mtrain: \u001b[0mWARNING  C:\\Users\\DHAIRYA\\VA-Project_AIML\\Cafeteria_Management\\Code\\Bench-Detection-2\\train\\images\\frame_420_jpg.rf.42c4a03a358d0f573876ef120e3e06a8.jpg: ignoring corrupt image/label: Label class 3 exceeds dataset class count 2. Possible class labels are 0-1\n",
      "\u001b[34m\u001b[1mtrain: \u001b[0mWARNING  C:\\Users\\DHAIRYA\\VA-Project_AIML\\Cafeteria_Management\\Code\\Bench-Detection-2\\train\\images\\frame_425_jpg.rf.aecb7eea92f792ce05e6beb5b4968c99.jpg: ignoring corrupt image/label: Label class 3 exceeds dataset class count 2. Possible class labels are 0-1\n",
      "\u001b[34m\u001b[1mtrain: \u001b[0mWARNING  C:\\Users\\DHAIRYA\\VA-Project_AIML\\Cafeteria_Management\\Code\\Bench-Detection-2\\train\\images\\frame_430_jpg.rf.1014363c968afc899d0b2c1ae313afa8.jpg: ignoring corrupt image/label: Label class 3 exceeds dataset class count 2. Possible class labels are 0-1\n",
      "\u001b[34m\u001b[1mtrain: \u001b[0mWARNING  C:\\Users\\DHAIRYA\\VA-Project_AIML\\Cafeteria_Management\\Code\\Bench-Detection-2\\train\\images\\frame_435_jpg.rf.0509928743edc983925f4c5793f4b675.jpg: ignoring corrupt image/label: Label class 3 exceeds dataset class count 2. Possible class labels are 0-1\n",
      "\u001b[34m\u001b[1mtrain: \u001b[0mWARNING  C:\\Users\\DHAIRYA\\VA-Project_AIML\\Cafeteria_Management\\Code\\Bench-Detection-2\\train\\images\\frame_440_jpg.rf.43c146a2dc9cc63e04f2267fb2eab7f1.jpg: ignoring corrupt image/label: Label class 3 exceeds dataset class count 2. Possible class labels are 0-1\n",
      "\u001b[34m\u001b[1mtrain: \u001b[0mWARNING  C:\\Users\\DHAIRYA\\VA-Project_AIML\\Cafeteria_Management\\Code\\Bench-Detection-2\\train\\images\\frame_445_jpg.rf.121c6398c227f6ce9e9be04b6133b3a1.jpg: ignoring corrupt image/label: Label class 3 exceeds dataset class count 2. Possible class labels are 0-1\n",
      "\u001b[34m\u001b[1mtrain: \u001b[0mWARNING  C:\\Users\\DHAIRYA\\VA-Project_AIML\\Cafeteria_Management\\Code\\Bench-Detection-2\\train\\images\\frame_450_jpg.rf.59c894db7ef62eeef855fb58fae9a1be.jpg: ignoring corrupt image/label: Label class 3 exceeds dataset class count 2. Possible class labels are 0-1\n",
      "\u001b[34m\u001b[1mtrain: \u001b[0mWARNING  C:\\Users\\DHAIRYA\\VA-Project_AIML\\Cafeteria_Management\\Code\\Bench-Detection-2\\train\\images\\frame_460_jpg.rf.f52f8f7437ad882365d60028c37250fe.jpg: ignoring corrupt image/label: Label class 3 exceeds dataset class count 2. Possible class labels are 0-1\n",
      "\u001b[34m\u001b[1mtrain: \u001b[0mWARNING  C:\\Users\\DHAIRYA\\VA-Project_AIML\\Cafeteria_Management\\Code\\Bench-Detection-2\\train\\images\\frame_465_jpg.rf.60b62c925354a7303ba8e75c661dde7f.jpg: ignoring corrupt image/label: Label class 3 exceeds dataset class count 2. Possible class labels are 0-1\n",
      "\u001b[34m\u001b[1mtrain: \u001b[0mWARNING  C:\\Users\\DHAIRYA\\VA-Project_AIML\\Cafeteria_Management\\Code\\Bench-Detection-2\\train\\images\\frame_470_jpg.rf.c9d612ed483bf241564b7d2b2cf3cc11.jpg: ignoring corrupt image/label: Label class 3 exceeds dataset class count 2. Possible class labels are 0-1\n",
      "\u001b[34m\u001b[1mtrain: \u001b[0mWARNING  C:\\Users\\DHAIRYA\\VA-Project_AIML\\Cafeteria_Management\\Code\\Bench-Detection-2\\train\\images\\frame_475_jpg.rf.d839f9839628beffd6a0310acc559b33.jpg: ignoring corrupt image/label: Label class 3 exceeds dataset class count 2. Possible class labels are 0-1\n",
      "\u001b[34m\u001b[1mtrain: \u001b[0mWARNING  C:\\Users\\DHAIRYA\\VA-Project_AIML\\Cafeteria_Management\\Code\\Bench-Detection-2\\train\\images\\frame_480_jpg.rf.9e4faa8060e49103b01f9043cb2e77b6.jpg: ignoring corrupt image/label: Label class 3 exceeds dataset class count 2. Possible class labels are 0-1\n",
      "\u001b[34m\u001b[1mtrain: \u001b[0mWARNING  C:\\Users\\DHAIRYA\\VA-Project_AIML\\Cafeteria_Management\\Code\\Bench-Detection-2\\train\\images\\frame_485_jpg.rf.84c1e2b9d6bc27671291a9e972b598d0.jpg: ignoring corrupt image/label: Label class 3 exceeds dataset class count 2. Possible class labels are 0-1\n",
      "\u001b[34m\u001b[1mtrain: \u001b[0mWARNING  C:\\Users\\DHAIRYA\\VA-Project_AIML\\Cafeteria_Management\\Code\\Bench-Detection-2\\train\\images\\frame_490_jpg.rf.084df84dc8089d1ef515ed3bdf4e993e.jpg: ignoring corrupt image/label: Label class 3 exceeds dataset class count 2. Possible class labels are 0-1\n",
      "\u001b[34m\u001b[1mtrain: \u001b[0mWARNING  C:\\Users\\DHAIRYA\\VA-Project_AIML\\Cafeteria_Management\\Code\\Bench-Detection-2\\train\\images\\frame_495_jpg.rf.bca0f5ebdc49a3a22a60040162037224.jpg: ignoring corrupt image/label: Label class 3 exceeds dataset class count 2. Possible class labels are 0-1\n",
      "\u001b[34m\u001b[1mtrain: \u001b[0mWARNING  C:\\Users\\DHAIRYA\\VA-Project_AIML\\Cafeteria_Management\\Code\\Bench-Detection-2\\train\\images\\frame_505_jpg.rf.5bbce782990823737c021a3e8377bb78.jpg: ignoring corrupt image/label: Label class 3 exceeds dataset class count 2. Possible class labels are 0-1\n",
      "\u001b[34m\u001b[1mtrain: \u001b[0mWARNING  C:\\Users\\DHAIRYA\\VA-Project_AIML\\Cafeteria_Management\\Code\\Bench-Detection-2\\train\\images\\frame_50_jpg.rf.895bc134e40f4d7b41b20860f3741cd6.jpg: ignoring corrupt image/label: Label class 3 exceeds dataset class count 2. Possible class labels are 0-1\n",
      "\u001b[34m\u001b[1mtrain: \u001b[0mWARNING  C:\\Users\\DHAIRYA\\VA-Project_AIML\\Cafeteria_Management\\Code\\Bench-Detection-2\\train\\images\\frame_510_jpg.rf.ff09cb9d23456b6192154ed2f6930519.jpg: ignoring corrupt image/label: Label class 3 exceeds dataset class count 2. Possible class labels are 0-1\n",
      "\u001b[34m\u001b[1mtrain: \u001b[0mWARNING  C:\\Users\\DHAIRYA\\VA-Project_AIML\\Cafeteria_Management\\Code\\Bench-Detection-2\\train\\images\\frame_520_jpg.rf.6d8c4034dd3e891e379c7a4c5d5651ba.jpg: ignoring corrupt image/label: Label class 3 exceeds dataset class count 2. Possible class labels are 0-1\n",
      "\u001b[34m\u001b[1mtrain: \u001b[0mWARNING  C:\\Users\\DHAIRYA\\VA-Project_AIML\\Cafeteria_Management\\Code\\Bench-Detection-2\\train\\images\\frame_525_jpg.rf.3c3d5871a61910b5ee71154991426eec.jpg: ignoring corrupt image/label: Label class 3 exceeds dataset class count 2. Possible class labels are 0-1\n",
      "\u001b[34m\u001b[1mtrain: \u001b[0mWARNING  C:\\Users\\DHAIRYA\\VA-Project_AIML\\Cafeteria_Management\\Code\\Bench-Detection-2\\train\\images\\frame_545_jpg.rf.c1e8c9f3b8b496a82f88508c21bad301.jpg: ignoring corrupt image/label: Label class 3 exceeds dataset class count 2. Possible class labels are 0-1\n",
      "\u001b[34m\u001b[1mtrain: \u001b[0mWARNING  C:\\Users\\DHAIRYA\\VA-Project_AIML\\Cafeteria_Management\\Code\\Bench-Detection-2\\train\\images\\frame_555_jpg.rf.51cd06614adbaec941a31292cdfdb8b8.jpg: ignoring corrupt image/label: Label class 3 exceeds dataset class count 2. Possible class labels are 0-1\n",
      "\u001b[34m\u001b[1mtrain: \u001b[0mWARNING  C:\\Users\\DHAIRYA\\VA-Project_AIML\\Cafeteria_Management\\Code\\Bench-Detection-2\\train\\images\\frame_560_jpg.rf.31734ed9b9a6485aea02344b43536fd8.jpg: ignoring corrupt image/label: Label class 3 exceeds dataset class count 2. Possible class labels are 0-1\n",
      "\u001b[34m\u001b[1mtrain: \u001b[0mWARNING  C:\\Users\\DHAIRYA\\VA-Project_AIML\\Cafeteria_Management\\Code\\Bench-Detection-2\\train\\images\\frame_570_jpg.rf.e33b4b0a5634dc11911a21f224ecc7a2.jpg: ignoring corrupt image/label: Label class 3 exceeds dataset class count 2. Possible class labels are 0-1\n",
      "\u001b[34m\u001b[1mtrain: \u001b[0mWARNING  C:\\Users\\DHAIRYA\\VA-Project_AIML\\Cafeteria_Management\\Code\\Bench-Detection-2\\train\\images\\frame_580_jpg.rf.82bff9edfddef153ca355a63650150c9.jpg: ignoring corrupt image/label: Label class 3 exceeds dataset class count 2. Possible class labels are 0-1\n",
      "\u001b[34m\u001b[1mtrain: \u001b[0mWARNING  C:\\Users\\DHAIRYA\\VA-Project_AIML\\Cafeteria_Management\\Code\\Bench-Detection-2\\train\\images\\frame_590_jpg.rf.fc586b0f80686bc4984889022ab5bc01.jpg: ignoring corrupt image/label: Label class 3 exceeds dataset class count 2. Possible class labels are 0-1\n",
      "\u001b[34m\u001b[1mtrain: \u001b[0mWARNING  C:\\Users\\DHAIRYA\\VA-Project_AIML\\Cafeteria_Management\\Code\\Bench-Detection-2\\train\\images\\frame_5_jpg.rf.cfd23d96bcf455bc3dec14a06c176ebd.jpg: ignoring corrupt image/label: Label class 3 exceeds dataset class count 2. Possible class labels are 0-1\n",
      "\u001b[34m\u001b[1mtrain: \u001b[0mWARNING  C:\\Users\\DHAIRYA\\VA-Project_AIML\\Cafeteria_Management\\Code\\Bench-Detection-2\\train\\images\\frame_600_jpg.rf.503552bbd36892c5727512f662086b29.jpg: ignoring corrupt image/label: Label class 3 exceeds dataset class count 2. Possible class labels are 0-1\n",
      "\u001b[34m\u001b[1mtrain: \u001b[0mWARNING  C:\\Users\\DHAIRYA\\VA-Project_AIML\\Cafeteria_Management\\Code\\Bench-Detection-2\\train\\images\\frame_60_jpg.rf.0f164f0f9429799e0ef7871d81322196.jpg: ignoring corrupt image/label: Label class 3 exceeds dataset class count 2. Possible class labels are 0-1\n",
      "\u001b[34m\u001b[1mtrain: \u001b[0mWARNING  C:\\Users\\DHAIRYA\\VA-Project_AIML\\Cafeteria_Management\\Code\\Bench-Detection-2\\train\\images\\frame_65_jpg.rf.920cd2b0912ab862b8e1d92b4988752d.jpg: ignoring corrupt image/label: Label class 3 exceeds dataset class count 2. Possible class labels are 0-1\n",
      "\u001b[34m\u001b[1mtrain: \u001b[0mWARNING  C:\\Users\\DHAIRYA\\VA-Project_AIML\\Cafeteria_Management\\Code\\Bench-Detection-2\\train\\images\\frame_70_jpg.rf.5d25a4499e6d76a79f883d8ba093075e.jpg: ignoring corrupt image/label: Label class 3 exceeds dataset class count 2. Possible class labels are 0-1\n",
      "\u001b[34m\u001b[1mtrain: \u001b[0mWARNING  C:\\Users\\DHAIRYA\\VA-Project_AIML\\Cafeteria_Management\\Code\\Bench-Detection-2\\train\\images\\frame_80_jpg.rf.71d6cbd3a5f876789185eb58dacedceb.jpg: ignoring corrupt image/label: Label class 3 exceeds dataset class count 2. Possible class labels are 0-1\n",
      "\u001b[34m\u001b[1mtrain: \u001b[0mWARNING  C:\\Users\\DHAIRYA\\VA-Project_AIML\\Cafeteria_Management\\Code\\Bench-Detection-2\\train\\images\\frame_85_jpg.rf.cd03aeaf97fb4c5d84ec23fa613b850a.jpg: ignoring corrupt image/label: Label class 3 exceeds dataset class count 2. Possible class labels are 0-1\n",
      "\u001b[34m\u001b[1mtrain: \u001b[0mWARNING  C:\\Users\\DHAIRYA\\VA-Project_AIML\\Cafeteria_Management\\Code\\Bench-Detection-2\\train\\images\\frame_90_jpg.rf.b40d9d1bd77ec2083188cee590544ddc.jpg: ignoring corrupt image/label: Label class 3 exceeds dataset class count 2. Possible class labels are 0-1\n",
      "\u001b[34m\u001b[1mtrain: \u001b[0mWARNING  C:\\Users\\DHAIRYA\\VA-Project_AIML\\Cafeteria_Management\\Code\\Bench-Detection-2\\train\\images\\frame_95_jpg.rf.4ae152754af5c10de7949f41ccee35ed.jpg: ignoring corrupt image/label: Label class 3 exceeds dataset class count 2. Possible class labels are 0-1\n",
      "\u001b[34m\u001b[1mtrain: \u001b[0mNew cache created: C:\\Users\\DHAIRYA\\VA-Project_AIML\\Cafeteria_Management\\Code\\Bench-Detection-2\\train\\labels.cache\n"
     ]
    },
    {
     "name": "stderr",
     "output_type": "stream",
     "text": [
      "\n",
      "\u001b[34m\u001b[1mval: \u001b[0mScanning C:\\Users\\DHAIRYA\\VA-Project_AIML\\Cafeteria_Management\\Code\\Bench-Detection-2\\valid\\labels... 67 images, 0 backgrounds, 66 corrupt: 100%|██████████| 67/67 [00:00<00:00, 304.52it/s]"
     ]
    },
    {
     "name": "stdout",
     "output_type": "stream",
     "text": [
      "\u001b[34m\u001b[1mval: \u001b[0mWARNING  C:\\Users\\DHAIRYA\\VA-Project_AIML\\Cafeteria_Management\\Code\\Bench-Detection-2\\valid\\images\\Image101_jpg.rf.184e23eac795c2efa66d3fe22933bda3.jpg: ignoring corrupt image/label: Label class 3 exceeds dataset class count 2. Possible class labels are 0-1\n",
      "\u001b[34m\u001b[1mval: \u001b[0mWARNING  C:\\Users\\DHAIRYA\\VA-Project_AIML\\Cafeteria_Management\\Code\\Bench-Detection-2\\valid\\images\\Image102_jpg.rf.8851e3b4bc0cd37d3ae0f907714ef9db.jpg: ignoring corrupt image/label: Label class 3 exceeds dataset class count 2. Possible class labels are 0-1\n",
      "\u001b[34m\u001b[1mval: \u001b[0mWARNING  C:\\Users\\DHAIRYA\\VA-Project_AIML\\Cafeteria_Management\\Code\\Bench-Detection-2\\valid\\images\\Image105_jpg.rf.1545115250c74314fafaabeee105442a.jpg: ignoring corrupt image/label: Label class 3 exceeds dataset class count 2. Possible class labels are 0-1\n",
      "\u001b[34m\u001b[1mval: \u001b[0mWARNING  C:\\Users\\DHAIRYA\\VA-Project_AIML\\Cafeteria_Management\\Code\\Bench-Detection-2\\valid\\images\\Image108_jpg.rf.549c64bc4ffd16860bbd1fb1db4719c3.jpg: ignoring corrupt image/label: Label class 3 exceeds dataset class count 2. Possible class labels are 0-1\n",
      "\u001b[34m\u001b[1mval: \u001b[0mWARNING  C:\\Users\\DHAIRYA\\VA-Project_AIML\\Cafeteria_Management\\Code\\Bench-Detection-2\\valid\\images\\Image115_jpg.rf.3d6a6de3f3a098704c3b2f63dc06981f.jpg: ignoring corrupt image/label: Label class 3 exceeds dataset class count 2. Possible class labels are 0-1\n",
      "\u001b[34m\u001b[1mval: \u001b[0mWARNING  C:\\Users\\DHAIRYA\\VA-Project_AIML\\Cafeteria_Management\\Code\\Bench-Detection-2\\valid\\images\\Image11_jpg.rf.3887c8e564da88e3d254e96207d394c0.jpg: ignoring corrupt image/label: Label class 3 exceeds dataset class count 2. Possible class labels are 0-1\n",
      "\u001b[34m\u001b[1mval: \u001b[0mWARNING  C:\\Users\\DHAIRYA\\VA-Project_AIML\\Cafeteria_Management\\Code\\Bench-Detection-2\\valid\\images\\Image125_jpg.rf.0013a43a028b381c0c6d8efe9274232d.jpg: ignoring corrupt image/label: Label class 3 exceeds dataset class count 2. Possible class labels are 0-1\n",
      "\u001b[34m\u001b[1mval: \u001b[0mWARNING  C:\\Users\\DHAIRYA\\VA-Project_AIML\\Cafeteria_Management\\Code\\Bench-Detection-2\\valid\\images\\Image138_jpg.rf.ced44a746f8947d49d7e6707e005c97a.jpg: ignoring corrupt image/label: Label class 3 exceeds dataset class count 2. Possible class labels are 0-1\n",
      "\u001b[34m\u001b[1mval: \u001b[0mWARNING  C:\\Users\\DHAIRYA\\VA-Project_AIML\\Cafeteria_Management\\Code\\Bench-Detection-2\\valid\\images\\Image139_jpg.rf.c6e2129591eab7151fbcdc90d1e50f40.jpg: ignoring corrupt image/label: Label class 3 exceeds dataset class count 2. Possible class labels are 0-1\n",
      "\u001b[34m\u001b[1mval: \u001b[0mWARNING  C:\\Users\\DHAIRYA\\VA-Project_AIML\\Cafeteria_Management\\Code\\Bench-Detection-2\\valid\\images\\Image143_jpg.rf.9ab7747ee2c44f2e4ea106f7564c87ca.jpg: ignoring corrupt image/label: Label class 3 exceeds dataset class count 2. Possible class labels are 0-1\n",
      "\u001b[34m\u001b[1mval: \u001b[0mWARNING  C:\\Users\\DHAIRYA\\VA-Project_AIML\\Cafeteria_Management\\Code\\Bench-Detection-2\\valid\\images\\Image144_jpg.rf.a044d1ee1f30379965f422a8458cdd73.jpg: ignoring corrupt image/label: Label class 3 exceeds dataset class count 2. Possible class labels are 0-1\n",
      "\u001b[34m\u001b[1mval: \u001b[0mWARNING  C:\\Users\\DHAIRYA\\VA-Project_AIML\\Cafeteria_Management\\Code\\Bench-Detection-2\\valid\\images\\Image147_jpg.rf.7fc7ff451424006900cbdfd0f26a070e.jpg: ignoring corrupt image/label: Label class 3 exceeds dataset class count 2. Possible class labels are 0-1\n",
      "\u001b[34m\u001b[1mval: \u001b[0mWARNING  C:\\Users\\DHAIRYA\\VA-Project_AIML\\Cafeteria_Management\\Code\\Bench-Detection-2\\valid\\images\\Image155_jpg.rf.dd6e33398e38e3e08559ab3d8bbf70ac.jpg: ignoring corrupt image/label: Label class 3 exceeds dataset class count 2. Possible class labels are 0-1\n",
      "\u001b[34m\u001b[1mval: \u001b[0mWARNING  C:\\Users\\DHAIRYA\\VA-Project_AIML\\Cafeteria_Management\\Code\\Bench-Detection-2\\valid\\images\\Image159_jpg.rf.415c091c665031a6889a5a6ee94160d9.jpg: ignoring corrupt image/label: Label class 3 exceeds dataset class count 2. Possible class labels are 0-1\n",
      "\u001b[34m\u001b[1mval: \u001b[0mWARNING  C:\\Users\\DHAIRYA\\VA-Project_AIML\\Cafeteria_Management\\Code\\Bench-Detection-2\\valid\\images\\Image16_jpg.rf.0b4c4bdb97ccdef203ad9f08cd5c09f0.jpg: ignoring corrupt image/label: Label class 3 exceeds dataset class count 2. Possible class labels are 0-1\n",
      "\u001b[34m\u001b[1mval: \u001b[0mWARNING  C:\\Users\\DHAIRYA\\VA-Project_AIML\\Cafeteria_Management\\Code\\Bench-Detection-2\\valid\\images\\Image178_jpg.rf.b3547eb93ae5b58d264fabbc77f86698.jpg: ignoring corrupt image/label: Label class 3 exceeds dataset class count 2. Possible class labels are 0-1\n",
      "\u001b[34m\u001b[1mval: \u001b[0mWARNING  C:\\Users\\DHAIRYA\\VA-Project_AIML\\Cafeteria_Management\\Code\\Bench-Detection-2\\valid\\images\\Image181_jpg.rf.2272b5acd5e5963b7c83c2cd079c68da.jpg: ignoring corrupt image/label: Label class 3 exceeds dataset class count 2. Possible class labels are 0-1\n",
      "\u001b[34m\u001b[1mval: \u001b[0mWARNING  C:\\Users\\DHAIRYA\\VA-Project_AIML\\Cafeteria_Management\\Code\\Bench-Detection-2\\valid\\images\\Image188_jpg.rf.559ce13b2e329a653de03e086c58c625.jpg: ignoring corrupt image/label: Label class 3 exceeds dataset class count 2. Possible class labels are 0-1\n",
      "\u001b[34m\u001b[1mval: \u001b[0mWARNING  C:\\Users\\DHAIRYA\\VA-Project_AIML\\Cafeteria_Management\\Code\\Bench-Detection-2\\valid\\images\\Image189_jpg.rf.c736484b0304822971b82621df439666.jpg: ignoring corrupt image/label: Label class 3 exceeds dataset class count 2. Possible class labels are 0-1\n",
      "\u001b[34m\u001b[1mval: \u001b[0mWARNING  C:\\Users\\DHAIRYA\\VA-Project_AIML\\Cafeteria_Management\\Code\\Bench-Detection-2\\valid\\images\\Image197_jpg.rf.33e4d7d37d4c69af1a023f75dd8a6837.jpg: ignoring corrupt image/label: Label class 3 exceeds dataset class count 2. Possible class labels are 0-1\n",
      "\u001b[34m\u001b[1mval: \u001b[0mWARNING  C:\\Users\\DHAIRYA\\VA-Project_AIML\\Cafeteria_Management\\Code\\Bench-Detection-2\\valid\\images\\Image201_jpg.rf.44454f540b9667ecaa1b0d09d13de1e8.jpg: ignoring corrupt image/label: Label class 3 exceeds dataset class count 2. Possible class labels are 0-1\n",
      "\u001b[34m\u001b[1mval: \u001b[0mWARNING  C:\\Users\\DHAIRYA\\VA-Project_AIML\\Cafeteria_Management\\Code\\Bench-Detection-2\\valid\\images\\Image205_jpg.rf.2a5932cf391e36de48c27663b7be6c05.jpg: ignoring corrupt image/label: Label class 3 exceeds dataset class count 2. Possible class labels are 0-1\n",
      "\u001b[34m\u001b[1mval: \u001b[0mWARNING  C:\\Users\\DHAIRYA\\VA-Project_AIML\\Cafeteria_Management\\Code\\Bench-Detection-2\\valid\\images\\Image208_jpg.rf.24a927326395a948bd29d657de6347cf.jpg: ignoring corrupt image/label: Label class 3 exceeds dataset class count 2. Possible class labels are 0-1\n",
      "\u001b[34m\u001b[1mval: \u001b[0mWARNING  C:\\Users\\DHAIRYA\\VA-Project_AIML\\Cafeteria_Management\\Code\\Bench-Detection-2\\valid\\images\\Image210_jpg.rf.d4fb35ec752c94ccd92567dec3d101ea.jpg: ignoring corrupt image/label: Label class 3 exceeds dataset class count 2. Possible class labels are 0-1\n",
      "\u001b[34m\u001b[1mval: \u001b[0mWARNING  C:\\Users\\DHAIRYA\\VA-Project_AIML\\Cafeteria_Management\\Code\\Bench-Detection-2\\valid\\images\\Image26_jpg.rf.c61191e5012f4988f52b875d3f7f4f5c.jpg: ignoring corrupt image/label: Label class 3 exceeds dataset class count 2. Possible class labels are 0-1\n",
      "\u001b[34m\u001b[1mval: \u001b[0mWARNING  C:\\Users\\DHAIRYA\\VA-Project_AIML\\Cafeteria_Management\\Code\\Bench-Detection-2\\valid\\images\\Image28_jpg.rf.e8dad0cfcf8f957d91f08275288347e9.jpg: ignoring corrupt image/label: Label class 3 exceeds dataset class count 2. Possible class labels are 0-1\n",
      "\u001b[34m\u001b[1mval: \u001b[0mWARNING  C:\\Users\\DHAIRYA\\VA-Project_AIML\\Cafeteria_Management\\Code\\Bench-Detection-2\\valid\\images\\Image33_jpg.rf.43707e52e22eb897b8fb761ad3fb188d.jpg: ignoring corrupt image/label: Label class 3 exceeds dataset class count 2. Possible class labels are 0-1\n",
      "\u001b[34m\u001b[1mval: \u001b[0mWARNING  C:\\Users\\DHAIRYA\\VA-Project_AIML\\Cafeteria_Management\\Code\\Bench-Detection-2\\valid\\images\\Image35_jpg.rf.05770276d33685e876c3f373ef3d319d.jpg: ignoring corrupt image/label: Label class 3 exceeds dataset class count 2. Possible class labels are 0-1\n",
      "\u001b[34m\u001b[1mval: \u001b[0mWARNING  C:\\Users\\DHAIRYA\\VA-Project_AIML\\Cafeteria_Management\\Code\\Bench-Detection-2\\valid\\images\\Image38_jpg.rf.f6ae73c7d969bce37cd835bb3f0e9977.jpg: ignoring corrupt image/label: Label class 3 exceeds dataset class count 2. Possible class labels are 0-1\n",
      "\u001b[34m\u001b[1mval: \u001b[0mWARNING  C:\\Users\\DHAIRYA\\VA-Project_AIML\\Cafeteria_Management\\Code\\Bench-Detection-2\\valid\\images\\Image41_jpg.rf.06d6e381b89f670965c710f0aa2b1888.jpg: ignoring corrupt image/label: Label class 3 exceeds dataset class count 2. Possible class labels are 0-1\n",
      "\u001b[34m\u001b[1mval: \u001b[0mWARNING  C:\\Users\\DHAIRYA\\VA-Project_AIML\\Cafeteria_Management\\Code\\Bench-Detection-2\\valid\\images\\Image48_jpg.rf.0bf2bdfa761496ae5893af5493b5f122.jpg: ignoring corrupt image/label: Label class 3 exceeds dataset class count 2. Possible class labels are 0-1\n",
      "\u001b[34m\u001b[1mval: \u001b[0mWARNING  C:\\Users\\DHAIRYA\\VA-Project_AIML\\Cafeteria_Management\\Code\\Bench-Detection-2\\valid\\images\\Image51_jpg.rf.8bc49d16e15854658a9a222226020f85.jpg: ignoring corrupt image/label: Label class 3 exceeds dataset class count 2. Possible class labels are 0-1\n",
      "\u001b[34m\u001b[1mval: \u001b[0mWARNING  C:\\Users\\DHAIRYA\\VA-Project_AIML\\Cafeteria_Management\\Code\\Bench-Detection-2\\valid\\images\\Image56_jpg.rf.95f4dac2328c6488bc6f96c2fc4e9cd4.jpg: ignoring corrupt image/label: Label class 3 exceeds dataset class count 2. Possible class labels are 0-1\n",
      "\u001b[34m\u001b[1mval: \u001b[0mWARNING  C:\\Users\\DHAIRYA\\VA-Project_AIML\\Cafeteria_Management\\Code\\Bench-Detection-2\\valid\\images\\Image5_jpg.rf.2d9377b3848d86160a48c935b2fd8b96.jpg: ignoring corrupt image/label: Label class 3 exceeds dataset class count 2. Possible class labels are 0-1\n",
      "\u001b[34m\u001b[1mval: \u001b[0mWARNING  C:\\Users\\DHAIRYA\\VA-Project_AIML\\Cafeteria_Management\\Code\\Bench-Detection-2\\valid\\images\\Image63_jpg.rf.bab8120e9d9803d78a77ddae1681607f.jpg: ignoring corrupt image/label: Label class 3 exceeds dataset class count 2. Possible class labels are 0-1\n",
      "\u001b[34m\u001b[1mval: \u001b[0mWARNING  C:\\Users\\DHAIRYA\\VA-Project_AIML\\Cafeteria_Management\\Code\\Bench-Detection-2\\valid\\images\\Image68_jpg.rf.ba4b5e034d3d4e65096ba0d0eba11a6f.jpg: ignoring corrupt image/label: Label class 3 exceeds dataset class count 2. Possible class labels are 0-1\n",
      "\u001b[34m\u001b[1mval: \u001b[0mWARNING  C:\\Users\\DHAIRYA\\VA-Project_AIML\\Cafeteria_Management\\Code\\Bench-Detection-2\\valid\\images\\Image74_jpg.rf.618d110ce08781be7392c9ec66d09afe.jpg: ignoring corrupt image/label: Label class 3 exceeds dataset class count 2. Possible class labels are 0-1\n",
      "\u001b[34m\u001b[1mval: \u001b[0mWARNING  C:\\Users\\DHAIRYA\\VA-Project_AIML\\Cafeteria_Management\\Code\\Bench-Detection-2\\valid\\images\\Image76_jpg.rf.93d73269926710ffff8c188223f8fe0e.jpg: ignoring corrupt image/label: Label class 3 exceeds dataset class count 2. Possible class labels are 0-1\n",
      "\u001b[34m\u001b[1mval: \u001b[0mWARNING  C:\\Users\\DHAIRYA\\VA-Project_AIML\\Cafeteria_Management\\Code\\Bench-Detection-2\\valid\\images\\Image79_jpg.rf.3a280776384f01900e92ade0e011f1b9.jpg: ignoring corrupt image/label: Label class 3 exceeds dataset class count 2. Possible class labels are 0-1\n",
      "\u001b[34m\u001b[1mval: \u001b[0mWARNING  C:\\Users\\DHAIRYA\\VA-Project_AIML\\Cafeteria_Management\\Code\\Bench-Detection-2\\valid\\images\\Image80_jpg.rf.629a65a906bc7cda02026bab99b50fcb.jpg: ignoring corrupt image/label: Label class 3 exceeds dataset class count 2. Possible class labels are 0-1\n",
      "\u001b[34m\u001b[1mval: \u001b[0mWARNING  C:\\Users\\DHAIRYA\\VA-Project_AIML\\Cafeteria_Management\\Code\\Bench-Detection-2\\valid\\images\\Image89_jpg.rf.62786bef5a843a407e72b01f72bcee45.jpg: ignoring corrupt image/label: Label class 3 exceeds dataset class count 2. Possible class labels are 0-1\n",
      "\u001b[34m\u001b[1mval: \u001b[0mWARNING  C:\\Users\\DHAIRYA\\VA-Project_AIML\\Cafeteria_Management\\Code\\Bench-Detection-2\\valid\\images\\Image97_jpg.rf.13de722ac839282d805833188fd58c39.jpg: ignoring corrupt image/label: Label class 3 exceeds dataset class count 2. Possible class labels are 0-1\n",
      "\u001b[34m\u001b[1mval: \u001b[0mWARNING  C:\\Users\\DHAIRYA\\VA-Project_AIML\\Cafeteria_Management\\Code\\Bench-Detection-2\\valid\\images\\frame_135_jpg.rf.b9c0a2744b603941a7110fdb6460dce9.jpg: ignoring corrupt image/label: Label class 3 exceeds dataset class count 2. Possible class labels are 0-1\n",
      "\u001b[34m\u001b[1mval: \u001b[0mWARNING  C:\\Users\\DHAIRYA\\VA-Project_AIML\\Cafeteria_Management\\Code\\Bench-Detection-2\\valid\\images\\frame_140_jpg.rf.8442a8ce245b5cb1c70cbc3cad62f938.jpg: ignoring corrupt image/label: Label class 3 exceeds dataset class count 2. Possible class labels are 0-1\n",
      "\u001b[34m\u001b[1mval: \u001b[0mWARNING  C:\\Users\\DHAIRYA\\VA-Project_AIML\\Cafeteria_Management\\Code\\Bench-Detection-2\\valid\\images\\frame_145_jpg.rf.6b11adcf442c8f256be7d461ae3dc8cd.jpg: ignoring corrupt image/label: Label class 3 exceeds dataset class count 2. Possible class labels are 0-1\n",
      "\u001b[34m\u001b[1mval: \u001b[0mWARNING  C:\\Users\\DHAIRYA\\VA-Project_AIML\\Cafeteria_Management\\Code\\Bench-Detection-2\\valid\\images\\frame_160_jpg.rf.b4377d83561364087019b8b5d57ee481.jpg: ignoring corrupt image/label: Label class 3 exceeds dataset class count 2. Possible class labels are 0-1\n",
      "\u001b[34m\u001b[1mval: \u001b[0mWARNING  C:\\Users\\DHAIRYA\\VA-Project_AIML\\Cafeteria_Management\\Code\\Bench-Detection-2\\valid\\images\\frame_165_jpg.rf.4ef760d67c78ee77a8e5d9e04e2ae21f.jpg: ignoring corrupt image/label: Label class 3 exceeds dataset class count 2. Possible class labels are 0-1\n",
      "\u001b[34m\u001b[1mval: \u001b[0mWARNING  C:\\Users\\DHAIRYA\\VA-Project_AIML\\Cafeteria_Management\\Code\\Bench-Detection-2\\valid\\images\\frame_190_jpg.rf.38c50372b735f22f9ceb5ab0d9513a2b.jpg: ignoring corrupt image/label: Label class 3 exceeds dataset class count 2. Possible class labels are 0-1\n",
      "\u001b[34m\u001b[1mval: \u001b[0mWARNING  C:\\Users\\DHAIRYA\\VA-Project_AIML\\Cafeteria_Management\\Code\\Bench-Detection-2\\valid\\images\\frame_210_jpg.rf.d1b3568461ba9e28be8fb186f30977f8.jpg: ignoring corrupt image/label: Label class 3 exceeds dataset class count 2. Possible class labels are 0-1\n",
      "\u001b[34m\u001b[1mval: \u001b[0mWARNING  C:\\Users\\DHAIRYA\\VA-Project_AIML\\Cafeteria_Management\\Code\\Bench-Detection-2\\valid\\images\\frame_215_jpg.rf.06a508c9b41f9b4a1ff4ce422f2ff219.jpg: ignoring corrupt image/label: Label class 3 exceeds dataset class count 2. Possible class labels are 0-1\n",
      "\u001b[34m\u001b[1mval: \u001b[0mWARNING  C:\\Users\\DHAIRYA\\VA-Project_AIML\\Cafeteria_Management\\Code\\Bench-Detection-2\\valid\\images\\frame_235_jpg.rf.7be5fd30d20508255913d87fd3f11e14.jpg: ignoring corrupt image/label: Label class 3 exceeds dataset class count 2. Possible class labels are 0-1\n",
      "\u001b[34m\u001b[1mval: \u001b[0mWARNING  C:\\Users\\DHAIRYA\\VA-Project_AIML\\Cafeteria_Management\\Code\\Bench-Detection-2\\valid\\images\\frame_255_jpg.rf.3d5713a93586743538284af4be6f307d.jpg: ignoring corrupt image/label: Label class 3 exceeds dataset class count 2. Possible class labels are 0-1\n",
      "\u001b[34m\u001b[1mval: \u001b[0mWARNING  C:\\Users\\DHAIRYA\\VA-Project_AIML\\Cafeteria_Management\\Code\\Bench-Detection-2\\valid\\images\\frame_305_jpg.rf.598cfbf2a6fce897a47df179f4eade6e.jpg: ignoring corrupt image/label: Label class 3 exceeds dataset class count 2. Possible class labels are 0-1\n",
      "\u001b[34m\u001b[1mval: \u001b[0mWARNING  C:\\Users\\DHAIRYA\\VA-Project_AIML\\Cafeteria_Management\\Code\\Bench-Detection-2\\valid\\images\\frame_335_jpg.rf.0163cce2f4c4f2f15ab137aa7a6d73ab.jpg: ignoring corrupt image/label: Label class 3 exceeds dataset class count 2. Possible class labels are 0-1\n",
      "\u001b[34m\u001b[1mval: \u001b[0mWARNING  C:\\Users\\DHAIRYA\\VA-Project_AIML\\Cafeteria_Management\\Code\\Bench-Detection-2\\valid\\images\\frame_350_jpg.rf.2b10ee8a3cbb167d83967e7fef564cce.jpg: ignoring corrupt image/label: Label class 3 exceeds dataset class count 2. Possible class labels are 0-1\n",
      "\u001b[34m\u001b[1mval: \u001b[0mWARNING  C:\\Users\\DHAIRYA\\VA-Project_AIML\\Cafeteria_Management\\Code\\Bench-Detection-2\\valid\\images\\frame_35_jpg.rf.22ab5fc5e4ea29f3ede7efed98125be4.jpg: ignoring corrupt image/label: Label class 3 exceeds dataset class count 2. Possible class labels are 0-1\n",
      "\u001b[34m\u001b[1mval: \u001b[0mWARNING  C:\\Users\\DHAIRYA\\VA-Project_AIML\\Cafeteria_Management\\Code\\Bench-Detection-2\\valid\\images\\frame_370_jpg.rf.312a8f5de6fdb6cf26840908ef546474.jpg: ignoring corrupt image/label: Label class 3 exceeds dataset class count 2. Possible class labels are 0-1\n",
      "\u001b[34m\u001b[1mval: \u001b[0mWARNING  C:\\Users\\DHAIRYA\\VA-Project_AIML\\Cafeteria_Management\\Code\\Bench-Detection-2\\valid\\images\\frame_380_jpg.rf.328eab47aaf7023f60757a9ff70dde67.jpg: ignoring corrupt image/label: Label class 3 exceeds dataset class count 2. Possible class labels are 0-1\n",
      "\u001b[34m\u001b[1mval: \u001b[0mWARNING  C:\\Users\\DHAIRYA\\VA-Project_AIML\\Cafeteria_Management\\Code\\Bench-Detection-2\\valid\\images\\frame_45_jpg.rf.bfd884ceaca3bc988b34860c4815c908.jpg: ignoring corrupt image/label: Label class 3 exceeds dataset class count 2. Possible class labels are 0-1\n",
      "\u001b[34m\u001b[1mval: \u001b[0mWARNING  C:\\Users\\DHAIRYA\\VA-Project_AIML\\Cafeteria_Management\\Code\\Bench-Detection-2\\valid\\images\\frame_515_jpg.rf.16450fd62f939f5138bb4acc1a1ebcec.jpg: ignoring corrupt image/label: Label class 3 exceeds dataset class count 2. Possible class labels are 0-1\n",
      "\u001b[34m\u001b[1mval: \u001b[0mWARNING  C:\\Users\\DHAIRYA\\VA-Project_AIML\\Cafeteria_Management\\Code\\Bench-Detection-2\\valid\\images\\frame_535_jpg.rf.833fa50dc7227694b1e39684d8562042.jpg: ignoring corrupt image/label: Label class 3 exceeds dataset class count 2. Possible class labels are 0-1\n",
      "\u001b[34m\u001b[1mval: \u001b[0mWARNING  C:\\Users\\DHAIRYA\\VA-Project_AIML\\Cafeteria_Management\\Code\\Bench-Detection-2\\valid\\images\\frame_55_jpg.rf.6f2cdc7f340b3aacae95d8ca6ba50b41.jpg: ignoring corrupt image/label: Label class 3 exceeds dataset class count 2. Possible class labels are 0-1\n",
      "\u001b[34m\u001b[1mval: \u001b[0mWARNING  C:\\Users\\DHAIRYA\\VA-Project_AIML\\Cafeteria_Management\\Code\\Bench-Detection-2\\valid\\images\\frame_565_jpg.rf.9925f35c05f19b58c6f61e05ee98a16d.jpg: ignoring corrupt image/label: Label class 3 exceeds dataset class count 2. Possible class labels are 0-1\n",
      "\u001b[34m\u001b[1mval: \u001b[0mWARNING  C:\\Users\\DHAIRYA\\VA-Project_AIML\\Cafeteria_Management\\Code\\Bench-Detection-2\\valid\\images\\frame_575_jpg.rf.c9177bdc3e0e48f028cf1ed07d0e89a4.jpg: ignoring corrupt image/label: Label class 3 exceeds dataset class count 2. Possible class labels are 0-1\n",
      "\u001b[34m\u001b[1mval: \u001b[0mWARNING  C:\\Users\\DHAIRYA\\VA-Project_AIML\\Cafeteria_Management\\Code\\Bench-Detection-2\\valid\\images\\frame_585_jpg.rf.5b7879fa2b49f74e5ce168fa54f8910f.jpg: ignoring corrupt image/label: Label class 3 exceeds dataset class count 2. Possible class labels are 0-1\n",
      "\u001b[34m\u001b[1mval: \u001b[0mWARNING  C:\\Users\\DHAIRYA\\VA-Project_AIML\\Cafeteria_Management\\Code\\Bench-Detection-2\\valid\\images\\frame_595_jpg.rf.377e89cb52c616708f4f37fa7fcba5e1.jpg: ignoring corrupt image/label: Label class 3 exceeds dataset class count 2. Possible class labels are 0-1\n",
      "\u001b[34m\u001b[1mval: \u001b[0mNew cache created: C:\\Users\\DHAIRYA\\VA-Project_AIML\\Cafeteria_Management\\Code\\Bench-Detection-2\\valid\\labels.cache\n"
     ]
    },
    {
     "name": "stderr",
     "output_type": "stream",
     "text": [
      "\n"
     ]
    },
    {
     "name": "stdout",
     "output_type": "stream",
     "text": [
      "Plotting labels to runs\\detect\\train20\\labels.jpg... \n",
      "\u001b[34m\u001b[1moptimizer:\u001b[0m 'optimizer=auto' found, ignoring 'lr0=0.01' and 'momentum=0.937' and determining best 'optimizer', 'lr0' and 'momentum' automatically... \n",
      "\u001b[34m\u001b[1moptimizer:\u001b[0m AdamW(lr=0.001667, momentum=0.9) with parameter groups 57 weight(decay=0.0), 64 weight(decay=0.0005), 63 bias(decay=0.0)\n",
      "Image sizes 512 train, 512 val\n",
      "Using 1 dataloader workers\n",
      "Logging results to \u001b[1mruns\\detect\\train20\u001b[0m\n",
      "Starting training for 100 epochs...\n",
      "\n",
      "      Epoch    GPU_mem   box_loss   cls_loss   dfl_loss  Instances       Size\n"
     ]
    },
    {
     "name": "stderr",
     "output_type": "stream",
     "text": [
      "  0%|          | 0/1 [00:01<?, ?it/s]\n"
     ]
    },
    {
     "ename": "RuntimeError",
     "evalue": "CUDA error: device-side assert triggered\nCUDA kernel errors might be asynchronously reported at some other API call, so the stacktrace below might be incorrect.\nFor debugging consider passing CUDA_LAUNCH_BLOCKING=1\nCompile with `TORCH_USE_CUDA_DSA` to enable device-side assertions.\n",
     "output_type": "error",
     "traceback": [
      "\u001b[1;31m---------------------------------------------------------------------------\u001b[0m",
      "\u001b[1;31mRuntimeError\u001b[0m                              Traceback (most recent call last)",
      "Cell \u001b[1;32mIn[9], line 1\u001b[0m\n\u001b[1;32m----> 1\u001b[0m model\u001b[38;5;241m.\u001b[39mtrain(data\u001b[38;5;241m=\u001b[39m\u001b[38;5;124mr\u001b[39m\u001b[38;5;124m\"\u001b[39m\u001b[38;5;124mC:\u001b[39m\u001b[38;5;124m\\\u001b[39m\u001b[38;5;124mUsers\u001b[39m\u001b[38;5;124m\\\u001b[39m\u001b[38;5;124mDHAIRYA\u001b[39m\u001b[38;5;124m\\\u001b[39m\u001b[38;5;124mVA-Project_AIML\u001b[39m\u001b[38;5;124m\\\u001b[39m\u001b[38;5;124mCafeteria_Management\u001b[39m\u001b[38;5;124m\\\u001b[39m\u001b[38;5;124mCode\u001b[39m\u001b[38;5;124m\\\u001b[39m\u001b[38;5;124mBench-Detection-2\u001b[39m\u001b[38;5;124m\\\u001b[39m\u001b[38;5;124mdata.yaml\u001b[39m\u001b[38;5;124m\"\u001b[39m, epochs\u001b[38;5;241m=\u001b[39m\u001b[38;5;241m100\u001b[39m, imgsz\u001b[38;5;241m=\u001b[39m\u001b[38;5;241m512\u001b[39m, batch\u001b[38;5;241m=\u001b[39m\u001b[38;5;241m4\u001b[39m, device\u001b[38;5;241m=\u001b[39mdevice,workers\u001b[38;5;241m=\u001b[39m\u001b[38;5;241m1\u001b[39m)\n",
      "File \u001b[1;32m~\\anaconda3\\Lib\\site-packages\\ultralytics\\engine\\model.py:802\u001b[0m, in \u001b[0;36mModel.train\u001b[1;34m(self, trainer, **kwargs)\u001b[0m\n\u001b[0;32m    799\u001b[0m     \u001b[38;5;28mself\u001b[39m\u001b[38;5;241m.\u001b[39mmodel \u001b[38;5;241m=\u001b[39m \u001b[38;5;28mself\u001b[39m\u001b[38;5;241m.\u001b[39mtrainer\u001b[38;5;241m.\u001b[39mmodel\n\u001b[0;32m    801\u001b[0m \u001b[38;5;28mself\u001b[39m\u001b[38;5;241m.\u001b[39mtrainer\u001b[38;5;241m.\u001b[39mhub_session \u001b[38;5;241m=\u001b[39m \u001b[38;5;28mself\u001b[39m\u001b[38;5;241m.\u001b[39msession  \u001b[38;5;66;03m# attach optional HUB session\u001b[39;00m\n\u001b[1;32m--> 802\u001b[0m \u001b[38;5;28mself\u001b[39m\u001b[38;5;241m.\u001b[39mtrainer\u001b[38;5;241m.\u001b[39mtrain()\n\u001b[0;32m    803\u001b[0m \u001b[38;5;66;03m# Update model and cfg after training\u001b[39;00m\n\u001b[0;32m    804\u001b[0m \u001b[38;5;28;01mif\u001b[39;00m RANK \u001b[38;5;129;01min\u001b[39;00m {\u001b[38;5;241m-\u001b[39m\u001b[38;5;241m1\u001b[39m, \u001b[38;5;241m0\u001b[39m}:\n",
      "File \u001b[1;32m~\\anaconda3\\Lib\\site-packages\\ultralytics\\engine\\trainer.py:207\u001b[0m, in \u001b[0;36mBaseTrainer.train\u001b[1;34m(self)\u001b[0m\n\u001b[0;32m    204\u001b[0m         ddp_cleanup(\u001b[38;5;28mself\u001b[39m, \u001b[38;5;28mstr\u001b[39m(file))\n\u001b[0;32m    206\u001b[0m \u001b[38;5;28;01melse\u001b[39;00m:\n\u001b[1;32m--> 207\u001b[0m     \u001b[38;5;28mself\u001b[39m\u001b[38;5;241m.\u001b[39m_do_train(world_size)\n",
      "File \u001b[1;32m~\\anaconda3\\Lib\\site-packages\\ultralytics\\engine\\trainer.py:380\u001b[0m, in \u001b[0;36mBaseTrainer._do_train\u001b[1;34m(self, world_size)\u001b[0m\n\u001b[0;32m    378\u001b[0m \u001b[38;5;28;01mwith\u001b[39;00m autocast(\u001b[38;5;28mself\u001b[39m\u001b[38;5;241m.\u001b[39mamp):\n\u001b[0;32m    379\u001b[0m     batch \u001b[38;5;241m=\u001b[39m \u001b[38;5;28mself\u001b[39m\u001b[38;5;241m.\u001b[39mpreprocess_batch(batch)\n\u001b[1;32m--> 380\u001b[0m     \u001b[38;5;28mself\u001b[39m\u001b[38;5;241m.\u001b[39mloss, \u001b[38;5;28mself\u001b[39m\u001b[38;5;241m.\u001b[39mloss_items \u001b[38;5;241m=\u001b[39m \u001b[38;5;28mself\u001b[39m\u001b[38;5;241m.\u001b[39mmodel(batch)\n\u001b[0;32m    381\u001b[0m     \u001b[38;5;28;01mif\u001b[39;00m RANK \u001b[38;5;241m!=\u001b[39m \u001b[38;5;241m-\u001b[39m\u001b[38;5;241m1\u001b[39m:\n\u001b[0;32m    382\u001b[0m         \u001b[38;5;28mself\u001b[39m\u001b[38;5;241m.\u001b[39mloss \u001b[38;5;241m*\u001b[39m\u001b[38;5;241m=\u001b[39m world_size\n",
      "File \u001b[1;32m~\\anaconda3\\Lib\\site-packages\\torch\\nn\\modules\\module.py:1736\u001b[0m, in \u001b[0;36mModule._wrapped_call_impl\u001b[1;34m(self, *args, **kwargs)\u001b[0m\n\u001b[0;32m   1734\u001b[0m     \u001b[38;5;28;01mreturn\u001b[39;00m \u001b[38;5;28mself\u001b[39m\u001b[38;5;241m.\u001b[39m_compiled_call_impl(\u001b[38;5;241m*\u001b[39margs, \u001b[38;5;241m*\u001b[39m\u001b[38;5;241m*\u001b[39mkwargs)  \u001b[38;5;66;03m# type: ignore[misc]\u001b[39;00m\n\u001b[0;32m   1735\u001b[0m \u001b[38;5;28;01melse\u001b[39;00m:\n\u001b[1;32m-> 1736\u001b[0m     \u001b[38;5;28;01mreturn\u001b[39;00m \u001b[38;5;28mself\u001b[39m\u001b[38;5;241m.\u001b[39m_call_impl(\u001b[38;5;241m*\u001b[39margs, \u001b[38;5;241m*\u001b[39m\u001b[38;5;241m*\u001b[39mkwargs)\n",
      "File \u001b[1;32m~\\anaconda3\\Lib\\site-packages\\torch\\nn\\modules\\module.py:1747\u001b[0m, in \u001b[0;36mModule._call_impl\u001b[1;34m(self, *args, **kwargs)\u001b[0m\n\u001b[0;32m   1742\u001b[0m \u001b[38;5;66;03m# If we don't have any hooks, we want to skip the rest of the logic in\u001b[39;00m\n\u001b[0;32m   1743\u001b[0m \u001b[38;5;66;03m# this function, and just call forward.\u001b[39;00m\n\u001b[0;32m   1744\u001b[0m \u001b[38;5;28;01mif\u001b[39;00m \u001b[38;5;129;01mnot\u001b[39;00m (\u001b[38;5;28mself\u001b[39m\u001b[38;5;241m.\u001b[39m_backward_hooks \u001b[38;5;129;01mor\u001b[39;00m \u001b[38;5;28mself\u001b[39m\u001b[38;5;241m.\u001b[39m_backward_pre_hooks \u001b[38;5;129;01mor\u001b[39;00m \u001b[38;5;28mself\u001b[39m\u001b[38;5;241m.\u001b[39m_forward_hooks \u001b[38;5;129;01mor\u001b[39;00m \u001b[38;5;28mself\u001b[39m\u001b[38;5;241m.\u001b[39m_forward_pre_hooks\n\u001b[0;32m   1745\u001b[0m         \u001b[38;5;129;01mor\u001b[39;00m _global_backward_pre_hooks \u001b[38;5;129;01mor\u001b[39;00m _global_backward_hooks\n\u001b[0;32m   1746\u001b[0m         \u001b[38;5;129;01mor\u001b[39;00m _global_forward_hooks \u001b[38;5;129;01mor\u001b[39;00m _global_forward_pre_hooks):\n\u001b[1;32m-> 1747\u001b[0m     \u001b[38;5;28;01mreturn\u001b[39;00m forward_call(\u001b[38;5;241m*\u001b[39margs, \u001b[38;5;241m*\u001b[39m\u001b[38;5;241m*\u001b[39mkwargs)\n\u001b[0;32m   1749\u001b[0m result \u001b[38;5;241m=\u001b[39m \u001b[38;5;28;01mNone\u001b[39;00m\n\u001b[0;32m   1750\u001b[0m called_always_called_hooks \u001b[38;5;241m=\u001b[39m \u001b[38;5;28mset\u001b[39m()\n",
      "File \u001b[1;32m~\\anaconda3\\Lib\\site-packages\\ultralytics\\nn\\tasks.py:111\u001b[0m, in \u001b[0;36mBaseModel.forward\u001b[1;34m(self, x, *args, **kwargs)\u001b[0m\n\u001b[0;32m     97\u001b[0m \u001b[38;5;250m\u001b[39m\u001b[38;5;124;03m\"\"\"\u001b[39;00m\n\u001b[0;32m     98\u001b[0m \u001b[38;5;124;03mPerform forward pass of the model for either training or inference.\u001b[39;00m\n\u001b[0;32m     99\u001b[0m \n\u001b[1;32m   (...)\u001b[0m\n\u001b[0;32m    108\u001b[0m \u001b[38;5;124;03m    (torch.Tensor): Loss if x is a dict (training), or network predictions (inference).\u001b[39;00m\n\u001b[0;32m    109\u001b[0m \u001b[38;5;124;03m\"\"\"\u001b[39;00m\n\u001b[0;32m    110\u001b[0m \u001b[38;5;28;01mif\u001b[39;00m \u001b[38;5;28misinstance\u001b[39m(x, \u001b[38;5;28mdict\u001b[39m):  \u001b[38;5;66;03m# for cases of training and validating while training.\u001b[39;00m\n\u001b[1;32m--> 111\u001b[0m     \u001b[38;5;28;01mreturn\u001b[39;00m \u001b[38;5;28mself\u001b[39m\u001b[38;5;241m.\u001b[39mloss(x, \u001b[38;5;241m*\u001b[39margs, \u001b[38;5;241m*\u001b[39m\u001b[38;5;241m*\u001b[39mkwargs)\n\u001b[0;32m    112\u001b[0m \u001b[38;5;28;01mreturn\u001b[39;00m \u001b[38;5;28mself\u001b[39m\u001b[38;5;241m.\u001b[39mpredict(x, \u001b[38;5;241m*\u001b[39margs, \u001b[38;5;241m*\u001b[39m\u001b[38;5;241m*\u001b[39mkwargs)\n",
      "File \u001b[1;32m~\\anaconda3\\Lib\\site-packages\\ultralytics\\nn\\tasks.py:293\u001b[0m, in \u001b[0;36mBaseModel.loss\u001b[1;34m(self, batch, preds)\u001b[0m\n\u001b[0;32m    290\u001b[0m     \u001b[38;5;28mself\u001b[39m\u001b[38;5;241m.\u001b[39mcriterion \u001b[38;5;241m=\u001b[39m \u001b[38;5;28mself\u001b[39m\u001b[38;5;241m.\u001b[39minit_criterion()\n\u001b[0;32m    292\u001b[0m preds \u001b[38;5;241m=\u001b[39m \u001b[38;5;28mself\u001b[39m\u001b[38;5;241m.\u001b[39mforward(batch[\u001b[38;5;124m\"\u001b[39m\u001b[38;5;124mimg\u001b[39m\u001b[38;5;124m\"\u001b[39m]) \u001b[38;5;28;01mif\u001b[39;00m preds \u001b[38;5;129;01mis\u001b[39;00m \u001b[38;5;28;01mNone\u001b[39;00m \u001b[38;5;28;01melse\u001b[39;00m preds\n\u001b[1;32m--> 293\u001b[0m \u001b[38;5;28;01mreturn\u001b[39;00m \u001b[38;5;28mself\u001b[39m\u001b[38;5;241m.\u001b[39mcriterion(preds, batch)\n",
      "File \u001b[1;32m~\\anaconda3\\Lib\\site-packages\\ultralytics\\utils\\loss.py:234\u001b[0m, in \u001b[0;36mv8DetectionLoss.__call__\u001b[1;34m(self, preds, batch)\u001b[0m\n\u001b[0;32m    230\u001b[0m pred_bboxes \u001b[38;5;241m=\u001b[39m \u001b[38;5;28mself\u001b[39m\u001b[38;5;241m.\u001b[39mbbox_decode(anchor_points, pred_distri)  \u001b[38;5;66;03m# xyxy, (b, h*w, 4)\u001b[39;00m\n\u001b[0;32m    231\u001b[0m \u001b[38;5;66;03m# dfl_conf = pred_distri.view(batch_size, -1, 4, self.reg_max).detach().softmax(-1)\u001b[39;00m\n\u001b[0;32m    232\u001b[0m \u001b[38;5;66;03m# dfl_conf = (dfl_conf.amax(-1).mean(-1) + dfl_conf.amax(-1).amin(-1)) / 2\u001b[39;00m\n\u001b[1;32m--> 234\u001b[0m _, target_bboxes, target_scores, fg_mask, _ \u001b[38;5;241m=\u001b[39m \u001b[38;5;28mself\u001b[39m\u001b[38;5;241m.\u001b[39massigner(\n\u001b[0;32m    235\u001b[0m     \u001b[38;5;66;03m# pred_scores.detach().sigmoid() * 0.8 + dfl_conf.unsqueeze(-1) * 0.2,\u001b[39;00m\n\u001b[0;32m    236\u001b[0m     pred_scores\u001b[38;5;241m.\u001b[39mdetach()\u001b[38;5;241m.\u001b[39msigmoid(),\n\u001b[0;32m    237\u001b[0m     (pred_bboxes\u001b[38;5;241m.\u001b[39mdetach() \u001b[38;5;241m*\u001b[39m stride_tensor)\u001b[38;5;241m.\u001b[39mtype(gt_bboxes\u001b[38;5;241m.\u001b[39mdtype),\n\u001b[0;32m    238\u001b[0m     anchor_points \u001b[38;5;241m*\u001b[39m stride_tensor,\n\u001b[0;32m    239\u001b[0m     gt_labels,\n\u001b[0;32m    240\u001b[0m     gt_bboxes,\n\u001b[0;32m    241\u001b[0m     mask_gt,\n\u001b[0;32m    242\u001b[0m )\n\u001b[0;32m    244\u001b[0m target_scores_sum \u001b[38;5;241m=\u001b[39m \u001b[38;5;28mmax\u001b[39m(target_scores\u001b[38;5;241m.\u001b[39msum(), \u001b[38;5;241m1\u001b[39m)\n\u001b[0;32m    246\u001b[0m \u001b[38;5;66;03m# Cls loss\u001b[39;00m\n\u001b[0;32m    247\u001b[0m \u001b[38;5;66;03m# loss[1] = self.varifocal_loss(pred_scores, target_scores, target_labels) / target_scores_sum  # VFL way\u001b[39;00m\n",
      "File \u001b[1;32m~\\anaconda3\\Lib\\site-packages\\torch\\nn\\modules\\module.py:1736\u001b[0m, in \u001b[0;36mModule._wrapped_call_impl\u001b[1;34m(self, *args, **kwargs)\u001b[0m\n\u001b[0;32m   1734\u001b[0m     \u001b[38;5;28;01mreturn\u001b[39;00m \u001b[38;5;28mself\u001b[39m\u001b[38;5;241m.\u001b[39m_compiled_call_impl(\u001b[38;5;241m*\u001b[39margs, \u001b[38;5;241m*\u001b[39m\u001b[38;5;241m*\u001b[39mkwargs)  \u001b[38;5;66;03m# type: ignore[misc]\u001b[39;00m\n\u001b[0;32m   1735\u001b[0m \u001b[38;5;28;01melse\u001b[39;00m:\n\u001b[1;32m-> 1736\u001b[0m     \u001b[38;5;28;01mreturn\u001b[39;00m \u001b[38;5;28mself\u001b[39m\u001b[38;5;241m.\u001b[39m_call_impl(\u001b[38;5;241m*\u001b[39margs, \u001b[38;5;241m*\u001b[39m\u001b[38;5;241m*\u001b[39mkwargs)\n",
      "File \u001b[1;32m~\\anaconda3\\Lib\\site-packages\\torch\\nn\\modules\\module.py:1747\u001b[0m, in \u001b[0;36mModule._call_impl\u001b[1;34m(self, *args, **kwargs)\u001b[0m\n\u001b[0;32m   1742\u001b[0m \u001b[38;5;66;03m# If we don't have any hooks, we want to skip the rest of the logic in\u001b[39;00m\n\u001b[0;32m   1743\u001b[0m \u001b[38;5;66;03m# this function, and just call forward.\u001b[39;00m\n\u001b[0;32m   1744\u001b[0m \u001b[38;5;28;01mif\u001b[39;00m \u001b[38;5;129;01mnot\u001b[39;00m (\u001b[38;5;28mself\u001b[39m\u001b[38;5;241m.\u001b[39m_backward_hooks \u001b[38;5;129;01mor\u001b[39;00m \u001b[38;5;28mself\u001b[39m\u001b[38;5;241m.\u001b[39m_backward_pre_hooks \u001b[38;5;129;01mor\u001b[39;00m \u001b[38;5;28mself\u001b[39m\u001b[38;5;241m.\u001b[39m_forward_hooks \u001b[38;5;129;01mor\u001b[39;00m \u001b[38;5;28mself\u001b[39m\u001b[38;5;241m.\u001b[39m_forward_pre_hooks\n\u001b[0;32m   1745\u001b[0m         \u001b[38;5;129;01mor\u001b[39;00m _global_backward_pre_hooks \u001b[38;5;129;01mor\u001b[39;00m _global_backward_hooks\n\u001b[0;32m   1746\u001b[0m         \u001b[38;5;129;01mor\u001b[39;00m _global_forward_hooks \u001b[38;5;129;01mor\u001b[39;00m _global_forward_pre_hooks):\n\u001b[1;32m-> 1747\u001b[0m     \u001b[38;5;28;01mreturn\u001b[39;00m forward_call(\u001b[38;5;241m*\u001b[39margs, \u001b[38;5;241m*\u001b[39m\u001b[38;5;241m*\u001b[39mkwargs)\n\u001b[0;32m   1749\u001b[0m result \u001b[38;5;241m=\u001b[39m \u001b[38;5;28;01mNone\u001b[39;00m\n\u001b[0;32m   1750\u001b[0m called_always_called_hooks \u001b[38;5;241m=\u001b[39m \u001b[38;5;28mset\u001b[39m()\n",
      "File \u001b[1;32m~\\anaconda3\\Lib\\site-packages\\torch\\utils\\_contextlib.py:116\u001b[0m, in \u001b[0;36mcontext_decorator.<locals>.decorate_context\u001b[1;34m(*args, **kwargs)\u001b[0m\n\u001b[0;32m    113\u001b[0m \u001b[38;5;129m@functools\u001b[39m\u001b[38;5;241m.\u001b[39mwraps(func)\n\u001b[0;32m    114\u001b[0m \u001b[38;5;28;01mdef\u001b[39;00m \u001b[38;5;21mdecorate_context\u001b[39m(\u001b[38;5;241m*\u001b[39margs, \u001b[38;5;241m*\u001b[39m\u001b[38;5;241m*\u001b[39mkwargs):\n\u001b[0;32m    115\u001b[0m     \u001b[38;5;28;01mwith\u001b[39;00m ctx_factory():\n\u001b[1;32m--> 116\u001b[0m         \u001b[38;5;28;01mreturn\u001b[39;00m func(\u001b[38;5;241m*\u001b[39margs, \u001b[38;5;241m*\u001b[39m\u001b[38;5;241m*\u001b[39mkwargs)\n",
      "File \u001b[1;32m~\\anaconda3\\Lib\\site-packages\\ultralytics\\utils\\tal.py:74\u001b[0m, in \u001b[0;36mTaskAlignedAssigner.forward\u001b[1;34m(self, pd_scores, pd_bboxes, anc_points, gt_labels, gt_bboxes, mask_gt)\u001b[0m\n\u001b[0;32m     65\u001b[0m     \u001b[38;5;28;01mreturn\u001b[39;00m (\n\u001b[0;32m     66\u001b[0m         torch\u001b[38;5;241m.\u001b[39mfull_like(pd_scores[\u001b[38;5;241m.\u001b[39m\u001b[38;5;241m.\u001b[39m\u001b[38;5;241m.\u001b[39m, \u001b[38;5;241m0\u001b[39m], \u001b[38;5;28mself\u001b[39m\u001b[38;5;241m.\u001b[39mbg_idx),\n\u001b[0;32m     67\u001b[0m         torch\u001b[38;5;241m.\u001b[39mzeros_like(pd_bboxes),\n\u001b[1;32m   (...)\u001b[0m\n\u001b[0;32m     70\u001b[0m         torch\u001b[38;5;241m.\u001b[39mzeros_like(pd_scores[\u001b[38;5;241m.\u001b[39m\u001b[38;5;241m.\u001b[39m\u001b[38;5;241m.\u001b[39m, \u001b[38;5;241m0\u001b[39m]),\n\u001b[0;32m     71\u001b[0m     )\n\u001b[0;32m     73\u001b[0m \u001b[38;5;28;01mtry\u001b[39;00m:\n\u001b[1;32m---> 74\u001b[0m     \u001b[38;5;28;01mreturn\u001b[39;00m \u001b[38;5;28mself\u001b[39m\u001b[38;5;241m.\u001b[39m_forward(pd_scores, pd_bboxes, anc_points, gt_labels, gt_bboxes, mask_gt)\n\u001b[0;32m     75\u001b[0m \u001b[38;5;28;01mexcept\u001b[39;00m torch\u001b[38;5;241m.\u001b[39mOutOfMemoryError:\n\u001b[0;32m     76\u001b[0m     \u001b[38;5;66;03m# Move tensors to CPU, compute, then move back to original device\u001b[39;00m\n\u001b[0;32m     77\u001b[0m     LOGGER\u001b[38;5;241m.\u001b[39mwarning(\u001b[38;5;124m\"\u001b[39m\u001b[38;5;124mWARNING: CUDA OutOfMemoryError in TaskAlignedAssigner, using CPU\u001b[39m\u001b[38;5;124m\"\u001b[39m)\n",
      "File \u001b[1;32m~\\anaconda3\\Lib\\site-packages\\ultralytics\\utils\\tal.py:102\u001b[0m, in \u001b[0;36mTaskAlignedAssigner._forward\u001b[1;34m(self, pd_scores, pd_bboxes, anc_points, gt_labels, gt_bboxes, mask_gt)\u001b[0m\n\u001b[0;32m     82\u001b[0m \u001b[38;5;28;01mdef\u001b[39;00m \u001b[38;5;21m_forward\u001b[39m(\u001b[38;5;28mself\u001b[39m, pd_scores, pd_bboxes, anc_points, gt_labels, gt_bboxes, mask_gt):\n\u001b[0;32m     83\u001b[0m \u001b[38;5;250m    \u001b[39m\u001b[38;5;124;03m\"\"\"\u001b[39;00m\n\u001b[0;32m     84\u001b[0m \u001b[38;5;124;03m    Compute the task-aligned assignment. Reference code is available at\u001b[39;00m\n\u001b[0;32m     85\u001b[0m \u001b[38;5;124;03m    https://github.com/Nioolek/PPYOLOE_pytorch/blob/master/ppyoloe/assigner/tal_assigner.py.\u001b[39;00m\n\u001b[1;32m   (...)\u001b[0m\n\u001b[0;32m    100\u001b[0m \u001b[38;5;124;03m        target_gt_idx (Tensor): shape(bs, num_total_anchors)\u001b[39;00m\n\u001b[0;32m    101\u001b[0m \u001b[38;5;124;03m    \"\"\"\u001b[39;00m\n\u001b[1;32m--> 102\u001b[0m     mask_pos, align_metric, overlaps \u001b[38;5;241m=\u001b[39m \u001b[38;5;28mself\u001b[39m\u001b[38;5;241m.\u001b[39mget_pos_mask(\n\u001b[0;32m    103\u001b[0m         pd_scores, pd_bboxes, gt_labels, gt_bboxes, anc_points, mask_gt\n\u001b[0;32m    104\u001b[0m     )\n\u001b[0;32m    106\u001b[0m     target_gt_idx, fg_mask, mask_pos \u001b[38;5;241m=\u001b[39m \u001b[38;5;28mself\u001b[39m\u001b[38;5;241m.\u001b[39mselect_highest_overlaps(mask_pos, overlaps, \u001b[38;5;28mself\u001b[39m\u001b[38;5;241m.\u001b[39mn_max_boxes)\n\u001b[0;32m    108\u001b[0m     \u001b[38;5;66;03m# Assigned target\u001b[39;00m\n",
      "File \u001b[1;32m~\\anaconda3\\Lib\\site-packages\\ultralytics\\utils\\tal.py:124\u001b[0m, in \u001b[0;36mTaskAlignedAssigner.get_pos_mask\u001b[1;34m(self, pd_scores, pd_bboxes, gt_labels, gt_bboxes, anc_points, mask_gt)\u001b[0m\n\u001b[0;32m    122\u001b[0m mask_in_gts \u001b[38;5;241m=\u001b[39m \u001b[38;5;28mself\u001b[39m\u001b[38;5;241m.\u001b[39mselect_candidates_in_gts(anc_points, gt_bboxes)\n\u001b[0;32m    123\u001b[0m \u001b[38;5;66;03m# Get anchor_align metric, (b, max_num_obj, h*w)\u001b[39;00m\n\u001b[1;32m--> 124\u001b[0m align_metric, overlaps \u001b[38;5;241m=\u001b[39m \u001b[38;5;28mself\u001b[39m\u001b[38;5;241m.\u001b[39mget_box_metrics(pd_scores, pd_bboxes, gt_labels, gt_bboxes, mask_in_gts \u001b[38;5;241m*\u001b[39m mask_gt)\n\u001b[0;32m    125\u001b[0m \u001b[38;5;66;03m# Get topk_metric mask, (b, max_num_obj, h*w)\u001b[39;00m\n\u001b[0;32m    126\u001b[0m mask_topk \u001b[38;5;241m=\u001b[39m \u001b[38;5;28mself\u001b[39m\u001b[38;5;241m.\u001b[39mselect_topk_candidates(align_metric, topk_mask\u001b[38;5;241m=\u001b[39mmask_gt\u001b[38;5;241m.\u001b[39mexpand(\u001b[38;5;241m-\u001b[39m\u001b[38;5;241m1\u001b[39m, \u001b[38;5;241m-\u001b[39m\u001b[38;5;241m1\u001b[39m, \u001b[38;5;28mself\u001b[39m\u001b[38;5;241m.\u001b[39mtopk)\u001b[38;5;241m.\u001b[39mbool())\n",
      "File \u001b[1;32m~\\anaconda3\\Lib\\site-packages\\ultralytics\\utils\\tal.py:143\u001b[0m, in \u001b[0;36mTaskAlignedAssigner.get_box_metrics\u001b[1;34m(self, pd_scores, pd_bboxes, gt_labels, gt_bboxes, mask_gt)\u001b[0m\n\u001b[0;32m    141\u001b[0m ind[\u001b[38;5;241m1\u001b[39m] \u001b[38;5;241m=\u001b[39m gt_labels\u001b[38;5;241m.\u001b[39msqueeze(\u001b[38;5;241m-\u001b[39m\u001b[38;5;241m1\u001b[39m)  \u001b[38;5;66;03m# b, max_num_obj\u001b[39;00m\n\u001b[0;32m    142\u001b[0m \u001b[38;5;66;03m# Get the scores of each grid for each gt cls\u001b[39;00m\n\u001b[1;32m--> 143\u001b[0m bbox_scores[mask_gt] \u001b[38;5;241m=\u001b[39m pd_scores[ind[\u001b[38;5;241m0\u001b[39m], :, ind[\u001b[38;5;241m1\u001b[39m]][mask_gt]  \u001b[38;5;66;03m# b, max_num_obj, h*w\u001b[39;00m\n\u001b[0;32m    145\u001b[0m \u001b[38;5;66;03m# (b, max_num_obj, 1, 4), (b, 1, h*w, 4)\u001b[39;00m\n\u001b[0;32m    146\u001b[0m pd_boxes \u001b[38;5;241m=\u001b[39m pd_bboxes\u001b[38;5;241m.\u001b[39munsqueeze(\u001b[38;5;241m1\u001b[39m)\u001b[38;5;241m.\u001b[39mexpand(\u001b[38;5;241m-\u001b[39m\u001b[38;5;241m1\u001b[39m, \u001b[38;5;28mself\u001b[39m\u001b[38;5;241m.\u001b[39mn_max_boxes, \u001b[38;5;241m-\u001b[39m\u001b[38;5;241m1\u001b[39m, \u001b[38;5;241m-\u001b[39m\u001b[38;5;241m1\u001b[39m)[mask_gt]\n",
      "\u001b[1;31mRuntimeError\u001b[0m: CUDA error: device-side assert triggered\nCUDA kernel errors might be asynchronously reported at some other API call, so the stacktrace below might be incorrect.\nFor debugging consider passing CUDA_LAUNCH_BLOCKING=1\nCompile with `TORCH_USE_CUDA_DSA` to enable device-side assertions.\n"
     ]
    }
   ],
   "source": [
    "model.train(data=r\"C:\\Users\\DHAIRYA\\VA-Project_AIML\\Cafeteria_Management\\Code\\Bench-Detection-2\\data.yaml\", epochs=100, imgsz=512, batch=4, device=device,workers=1)\n"
   ]
  },
  {
   "cell_type": "code",
   "execution_count": null,
   "metadata": {
    "colab": {
     "base_uri": "https://localhost:8080/"
    },
    "id": "Z_IjdrRqURlW",
    "outputId": "f18a356d-bcdc-4e9d-8bf5-8ae727cf649c"
   },
   "outputs": [],
   "source": [
    "metrics = model.val()\n",
    "print(metrics)\n"
   ]
  },
  {
   "cell_type": "code",
   "execution_count": null,
   "metadata": {
    "colab": {
     "base_uri": "https://localhost:8080/"
    },
    "id": "fPHQqfNQW_sL",
    "outputId": "519c9693-6ebc-43ec-b29c-427442677d31"
   },
   "outputs": [],
   "source": [
    "#results = model.predict(source=\"/content/Bench-Detection-1/test/images/Image104_jpg.rf.9d8dc8daff8a15ce4ffae7251ef1f4fb.jpg\", save=True).json()\n",
    "results = model.predict(source=r\"D:\\VA-Project_AIML\\TEST_data\\Image1214_cropped.jpg\", save=True)\n",
    "# Access the first Results object in the list (assuming you are processing a single image)\n",
    "if results:  # Check if results is not empty\n",
    "    first_result = results[0]\n",
    "    # Now you can call .json() on the Results object\n",
    "    results_json = first_result.tojson()\n",
    "    print(results_json)\n",
    "else:\n",
    "    print(\"No predictions found.\")\n",
    "\n"
   ]
  },
  {
   "cell_type": "code",
   "execution_count": null,
   "metadata": {
    "colab": {
     "base_uri": "https://localhost:8080/",
     "height": 657
    },
    "id": "s29Jt2QvXLDv",
    "outputId": "d2e26487-5cf1-4f28-b0bf-2c7681184ffe"
   },
   "outputs": [],
   "source": [
    "for result in results:\n",
    "    result.show()"
   ]
  },
  {
   "cell_type": "code",
   "execution_count": null,
   "metadata": {
    "id": "kOB2YoPFZ4_f"
   },
   "outputs": [],
   "source": [
    "import numpy as np\n",
    "import matplotlib.pyplot as plt"
   ]
  },
  {
   "cell_type": "code",
   "execution_count": null,
   "metadata": {
    "colab": {
     "base_uri": "https://localhost:8080/"
    },
    "id": "ulAbdkd8aJP9",
    "outputId": "f40d407f-ea52-4f6b-b513-1ccf6c88b587"
   },
   "outputs": [],
   "source": [
    "occupied_count = 0\n",
    "empty_count = 0\n",
    "\n",
    "# Access the first Results object in the list (assuming single image processing)\n",
    "if results:\n",
    "    predictions = results[0].boxes.cls  # Access predictions from the Results object\n",
    "\n",
    "    for prediction in predictions:\n",
    "        # Assuming prediction is a class index (integer), map it to class names\n",
    "        predicted_class_index = int(prediction.cpu().numpy()) # Convert tensor to int\n",
    "\n",
    "        # Define a mapping from class index to class name (adjust if necessary)\n",
    "        class_names = {0: 'Occupied', 3: 'Unoccupied'}\n",
    "\n",
    "        predicted_class = class_names.get(predicted_class_index, 'Unknown')\n",
    "\n",
    "        # Increment counts based on predicted classes\n",
    "        if predicted_class == 'Occupied':\n",
    "            occupied_count += 1\n",
    "        elif predicted_class == 'Unoccupied':\n",
    "            empty_count += 1\n",
    "    print(f\"Occupied count: {occupied_count}, Empty count: {empty_count}\")\n",
    "else:\n",
    "    print(\"No predictions found.\")"
   ]
  },
  {
   "cell_type": "code",
   "execution_count": null,
   "metadata": {
    "colab": {
     "base_uri": "https://localhost:8080/"
    },
    "id": "JgVN63SRbgYh",
    "outputId": "58e7176d-f25f-4cc5-9bd2-2e6abd39b7ed"
   },
   "outputs": [],
   "source": [
    "occupied_count = 0\n",
    "empty_count = 0\n",
    "\n",
    "# Access predictions directly from the Results object using 'boxes' for each image:\n",
    "for result in results:  # Iterate through each image in the Results object\n",
    "    if result.boxes is not None:  # Check if there are bounding boxes\n",
    "        for *xyxy, conf, cls in result.boxes.data:  # Iterate over predicted boxes\n",
    "            predicted_class_index = int(cls)  # Class index (0 for unoccupied, 1 for occupied)\n",
    "\n",
    "            # Assuming 0 for 'Unoccupied' and 1 for 'Occupied'\n",
    "            if predicted_class_index == 0:  # Or your actual class index for 'Occupied'\n",
    "                occupied_count += 1\n",
    "            elif predicted_class_index == 3:  # Or your actual class index for 'Unoccupied'\n",
    "                empty_count += 1\n",
    "\n",
    "print(\"Occupied benches:\", occupied_count)\n",
    "print(\"Empty benches:\", empty_count)"
   ]
  },
  {
   "cell_type": "code",
   "execution_count": null,
   "metadata": {
    "id": "d73gr_umdVzJ"
   },
   "outputs": [],
   "source": []
  }
 ],
 "metadata": {
  "colab": {
   "authorship_tag": "ABX9TyM7Xgs9HzYa/t0iXLdioM4w",
   "include_colab_link": true,
   "provenance": []
  },
  "kernelspec": {
   "display_name": "Python 3 (ipykernel)",
   "language": "python",
   "name": "python3"
  },
  "language_info": {
   "codemirror_mode": {
    "name": "ipython",
    "version": 3
   },
   "file_extension": ".py",
   "mimetype": "text/x-python",
   "name": "python",
   "nbconvert_exporter": "python",
   "pygments_lexer": "ipython3",
   "version": "3.12.4"
  }
 },
 "nbformat": 4,
 "nbformat_minor": 4
}
